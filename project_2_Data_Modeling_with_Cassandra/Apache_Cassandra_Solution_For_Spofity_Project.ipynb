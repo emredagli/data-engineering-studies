{
 "cells": [
  {
   "cell_type": "markdown",
   "metadata": {
    "pycharm": {
     "name": "#%% md\n"
    }
   },
   "source": [
    "# Part I. ETL Pipeline for Pre-Processing the Files"
   ]
  },
  {
   "cell_type": "markdown",
   "metadata": {
    "pycharm": {
     "name": "#%% md\n"
    }
   },
   "source": [
    "## PLEASE RUN THE FOLLOWING CODE FOR PRE-PROCESSING THE FILES"
   ]
  },
  {
   "cell_type": "markdown",
   "metadata": {
    "pycharm": {
     "name": "#%% md\n"
    }
   },
   "source": [
    "#### Import Python packages "
   ]
  },
  {
   "cell_type": "code",
   "execution_count": 21,
   "metadata": {
    "pycharm": {
     "name": "#%%\n"
    }
   },
   "outputs": [],
   "source": [
    "# Import Python packages \n",
    "import pandas as pd\n",
    "import cassandra\n",
    "import re\n",
    "import os\n",
    "import glob\n",
    "import numpy as np\n",
    "import json\n",
    "import csv"
   ]
  },
  {
   "cell_type": "markdown",
   "metadata": {
    "pycharm": {
     "name": "#%% md\n"
    }
   },
   "source": [
    "#### Creating list of filepaths to process original event csv data files"
   ]
  },
  {
   "cell_type": "code",
   "execution_count": 22,
   "metadata": {
    "pycharm": {
     "name": "#%%\n"
    }
   },
   "outputs": [
    {
     "name": "stdout",
     "output_type": "stream",
     "text": [
      "/home/workspace\n",
      "[\n",
      "    \"/home/workspace/event_data/2018-11-27-events.csv\",\n",
      "    \"/home/workspace/event_data/2018-11-04-events.csv\",\n",
      "    \"/home/workspace/event_data/2018-11-07-events.csv\",\n",
      "    \"/home/workspace/event_data/2018-11-09-events.csv\",\n",
      "    \"/home/workspace/event_data/2018-11-19-events.csv\",\n",
      "    \"/home/workspace/event_data/2018-11-05-events.csv\",\n",
      "    \"/home/workspace/event_data/2018-11-22-events.csv\",\n",
      "    \"/home/workspace/event_data/2018-11-16-events.csv\",\n",
      "    \"/home/workspace/event_data/2018-11-26-events.csv\",\n",
      "    \"/home/workspace/event_data/2018-11-24-events.csv\",\n",
      "    \"/home/workspace/event_data/2018-11-29-events.csv\",\n",
      "    \"/home/workspace/event_data/2018-11-15-events.csv\",\n",
      "    \"/home/workspace/event_data/2018-11-20-events.csv\",\n",
      "    \"/home/workspace/event_data/2018-11-06-events.csv\",\n",
      "    \"/home/workspace/event_data/2018-11-18-events.csv\",\n",
      "    \"/home/workspace/event_data/2018-11-21-events.csv\",\n",
      "    \"/home/workspace/event_data/2018-11-10-events.csv\",\n",
      "    \"/home/workspace/event_data/2018-11-23-events.csv\",\n",
      "    \"/home/workspace/event_data/2018-11-02-events.csv\",\n",
      "    \"/home/workspace/event_data/2018-11-28-events.csv\",\n",
      "    \"/home/workspace/event_data/2018-11-03-events.csv\",\n",
      "    \"/home/workspace/event_data/2018-11-13-events.csv\",\n",
      "    \"/home/workspace/event_data/2018-11-30-events.csv\",\n",
      "    \"/home/workspace/event_data/2018-11-12-events.csv\",\n",
      "    \"/home/workspace/event_data/2018-11-01-events.csv\",\n",
      "    \"/home/workspace/event_data/2018-11-14-events.csv\",\n",
      "    \"/home/workspace/event_data/2018-11-25-events.csv\",\n",
      "    \"/home/workspace/event_data/2018-11-08-events.csv\",\n",
      "    \"/home/workspace/event_data/2018-11-17-events.csv\",\n",
      "    \"/home/workspace/event_data/2018-11-11-events.csv\"\n",
      "]\n"
     ]
    }
   ],
   "source": [
    "# checking your current working directory\n",
    "print(os.getcwd())\n",
    "\n",
    "# Get your current folder and subfolder event data\n",
    "filepath = os.getcwd() + '/event_data'\n",
    "\n",
    "# Create a for loop to create a list of files and collect each filepath\n",
    "for root, dirs, files in os.walk(filepath):\n",
    "    \n",
    "# join the file path and roots with the subdirectories using glob\n",
    "    file_path_list = glob.glob(os.path.join(root,'*'))\n",
    "    print(json.dumps(file_path_list, indent=4))"
   ]
  },
  {
   "cell_type": "code",
   "execution_count": 23,
   "metadata": {
    "pycharm": {
     "name": "#%%\n"
    }
   },
   "outputs": [
    {
     "name": "stdout",
     "output_type": "stream",
     "text": [
      "header= [\n",
      "    \"row[0] = artist\",\n",
      "    \"row[1] = auth\",\n",
      "    \"row[2] = firstName\",\n",
      "    \"row[3] = gender\",\n",
      "    \"row[4] = itemInSession\",\n",
      "    \"row[5] = lastName\",\n",
      "    \"row[6] = length\",\n",
      "    \"row[7] = level\",\n",
      "    \"row[8] = location\",\n",
      "    \"row[9] = method\",\n",
      "    \"row[10] = page\",\n",
      "    \"row[11] = registration\",\n",
      "    \"row[12] = sessionId\",\n",
      "    \"row[13] = song\",\n",
      "    \"row[14] = status\",\n",
      "    \"row[15] = ts\",\n",
      "    \"row[16] = userId\"\n",
      "]\n"
     ]
    }
   ],
   "source": [
    "# Print the headers\n",
    "file = open(file_path_list[0])\n",
    "csvreader = csv.reader(file)\n",
    "columns = next(csvreader)\n",
    "print(\"header=\", json.dumps([\"row[\" + str(index) + \"] = \" + column for index, column in enumerate(columns)], indent=4))"
   ]
  },
  {
   "cell_type": "markdown",
   "metadata": {
    "pycharm": {
     "name": "#%% md\n"
    }
   },
   "source": [
    "#### Processing the files to create the data file csv that will be used for Apache Casssandra tables"
   ]
  },
  {
   "cell_type": "code",
   "execution_count": 24,
   "metadata": {
    "pycharm": {
     "name": "#%%\n"
    }
   },
   "outputs": [],
   "source": [
    "def create_single_event_data(event_datafile):\n",
    "    full_data_rows_list = [] \n",
    "\n",
    "    for f in file_path_list:\n",
    "        with open(f, 'r', encoding = 'utf8', newline='') as csvfile: \n",
    "            csvreader = csv.reader(csvfile) \n",
    "            next(csvreader)\n",
    "\n",
    "            for line in csvreader:\n",
    "                full_data_rows_list.append(line) \n",
    "\n",
    "    print(\"A row\", json.dumps([str(index) + \") \" + columns[index] + \" = \" + value for index, value in enumerate(full_data_rows_list[0])], indent=4))\n",
    "    print(\"Total Number of rows\", len(full_data_rows_list))\n",
    "\n",
    "    # Write single file\n",
    "    csv.register_dialect('myDialect', quoting=csv.QUOTE_ALL, skipinitialspace=True)\n",
    "    \n",
    "    with open(event_datafile, 'w', encoding = 'utf8', newline='') as f:\n",
    "        writer = csv.writer(f, dialect='myDialect')\n",
    "        writer.writerow(['artist','firstName','gender','itemInSession','lastName','length',\\\n",
    "                    'level','location','sessionId','song','userId'])\n",
    "        for row in full_data_rows_list:\n",
    "            if (row[0] == ''):\n",
    "                continue\n",
    "            # We are collecting: artist, firstName, gender, itemInSession, lastName, length, level, location, sessionId, song, userId\n",
    "            writer.writerow((row[0], row[2], row[3], row[4], row[5], row[6], row[7], row[8], row[12], row[13], row[16]))\n"
   ]
  },
  {
   "cell_type": "code",
   "execution_count": 25,
   "metadata": {
    "pycharm": {
     "name": "#%%\n"
    }
   },
   "outputs": [
    {
     "name": "stdout",
     "output_type": "stream",
     "text": [
      "A row [\n",
      "    \"0) artist = Barry Tuckwell/Academy of St Martin-in-the-Fields/Sir Neville Marriner\",\n",
      "    \"1) auth = Logged In\",\n",
      "    \"2) firstName = Mohammad\",\n",
      "    \"3) gender = M\",\n",
      "    \"4) itemInSession = 0\",\n",
      "    \"5) lastName = Rodriguez\",\n",
      "    \"6) length = 277.15873\",\n",
      "    \"7) level = paid\",\n",
      "    \"8) location = Sacramento--Roseville--Arden-Arcade, CA\",\n",
      "    \"9) method = PUT\",\n",
      "    \"10) page = NextSong\",\n",
      "    \"11) registration = 1.54051E+12\",\n",
      "    \"12) sessionId = 961\",\n",
      "    \"13) song = Horn Concerto No. 4 in E flat K495: II. Romance (Andante cantabile)\",\n",
      "    \"14) status = 200\",\n",
      "    \"15) ts = 1.54328E+12\",\n",
      "    \"16) userId = 88\"\n",
      "]\n",
      "Total Number of rows 8056\n"
     ]
    }
   ],
   "source": [
    "event_datafile = 'event_datafile_new.csv'\n",
    "create_single_event_data(event_datafile)"
   ]
  },
  {
   "cell_type": "code",
   "execution_count": 26,
   "metadata": {
    "pycharm": {
     "name": "#%%\n"
    }
   },
   "outputs": [
    {
     "name": "stdout",
     "output_type": "stream",
     "text": [
      "Total:\n",
      " 6820\n"
     ]
    }
   ],
   "source": [
    "df = pd.read_csv(event_datafile)\n",
    "print(\"Total:\\n\", df.shape[0])"
   ]
  },
  {
   "cell_type": "markdown",
   "metadata": {
    "pycharm": {
     "name": "#%% md\n"
    }
   },
   "source": [
    "It means we have:\n",
    "8056 - 6820 = 1236 empty \"artist\" rows on the \"event_data\" which we have traversed."
   ]
  },
  {
   "cell_type": "code",
   "execution_count": 27,
   "metadata": {
    "pycharm": {
     "name": "#%%\n"
    }
   },
   "outputs": [
    {
     "name": "stdout",
     "output_type": "stream",
     "text": [
      "\n",
      "Unique value counts:\n",
      " artist           3148\n",
      "firstName          84\n",
      "gender              2\n",
      "itemInSession     123\n",
      "lastName           86\n",
      "length           3994\n",
      "level               2\n",
      "location           63\n",
      "sessionId         776\n",
      "song             5190\n",
      "userId             96\n",
      "dtype: int64\n"
     ]
    }
   ],
   "source": [
    "print(\"\\nUnique value counts:\\n\", df.nunique())"
   ]
  },
  {
   "cell_type": "code",
   "execution_count": 28,
   "metadata": {
    "pycharm": {
     "name": "#%%\n"
    }
   },
   "outputs": [
    {
     "name": "stdout",
     "output_type": "stream",
     "text": [
      "\n",
      "Unique value count for group by ['sessionId', 'userId']:  776\n"
     ]
    }
   ],
   "source": [
    "print(\"\\nUnique value count for group by ['sessionId', 'userId']: \", \\\n",
    "      df.groupby(['sessionId', 'userId']).agg('count').shape[0])"
   ]
  },
  {
   "cell_type": "markdown",
   "metadata": {
    "pycharm": {
     "name": "#%% md\n"
    }
   },
   "source": [
    "It means that we do not have same sessionIds for distinct users:\n",
    "\n",
    "['sessionId', 'userId'] group count (776) == Unique values of sessionId (776)"
   ]
  },
  {
   "cell_type": "code",
   "execution_count": 29,
   "metadata": {
    "pycharm": {
     "name": "#%%\n"
    }
   },
   "outputs": [
    {
     "name": "stdout",
     "output_type": "stream",
     "text": [
      "\n",
      "Unique value count for group by ['artist', 'song']:  5296\n"
     ]
    }
   ],
   "source": [
    "print(\"\\nUnique value count for group by ['artist', 'song']: \", \\\n",
    "      df.groupby(['artist', 'song']).agg('count').shape[0])"
   ]
  },
  {
   "cell_type": "markdown",
   "metadata": {
    "pycharm": {
     "name": "#%% md\n"
    }
   },
   "source": [
    "It means that we have some logs that the same songs belong to different artists:\n",
    "\n",
    "['artist', 'song'] group count (5296) != Unique values of song (5190)"
   ]
  },
  {
   "cell_type": "code",
   "execution_count": 30,
   "metadata": {
    "pycharm": {
     "name": "#%%\n"
    }
   },
   "outputs": [
    {
     "name": "stdout",
     "output_type": "stream",
     "text": [
      "\n",
      "Unique value count for group by ['firstName', 'lastName']:  95\n"
     ]
    }
   ],
   "source": [
    "print(\"\\nUnique value count for group by ['firstName', 'lastName']: \", \\\n",
    "      df.groupby(['firstName', 'lastName']).agg('count').shape[0])"
   ]
  },
  {
   "cell_type": "markdown",
   "metadata": {
    "pycharm": {
     "name": "#%% md\n"
    }
   },
   "source": [
    "We have 2 users whith the same firstName & lastName:\n",
    "\n",
    "['firstName', 'lastName'] group count (95) != Unique values of userId (96)"
   ]
  },
  {
   "cell_type": "code",
   "execution_count": 31,
   "metadata": {
    "pycharm": {
     "name": "#%%\n"
    }
   },
   "outputs": [
    {
     "name": "stdout",
     "output_type": "stream",
     "text": [
      "\n",
      "Unique value count for group by ['sessionId', 'itemInSession']:  6820\n"
     ]
    }
   ],
   "source": [
    "print(\"\\nUnique value count for group by ['sessionId', 'itemInSession']: \", \\\n",
    "      df.groupby(['sessionId', 'itemInSession']).agg('count').shape[0])"
   ]
  },
  {
   "cell_type": "markdown",
   "metadata": {
    "pycharm": {
     "name": "#%% md\n"
    }
   },
   "source": [
    "It means combination of ['sessionId', 'itemInSession'] can be uniquely identify all the rows.\n",
    "\n",
    "['firstName', 'lastName'] group count (6820) == Total Row count"
   ]
  },
  {
   "cell_type": "code",
   "execution_count": 32,
   "metadata": {
    "pycharm": {
     "name": "#%%\n"
    }
   },
   "outputs": [
    {
     "name": "stdout",
     "output_type": "stream",
     "text": [
      "\n",
      "Unique value count for group by ['song', 'firstName', 'lastName']:  6618\n"
     ]
    }
   ],
   "source": [
    "print(\"\\nUnique value count for group by ['song', 'firstName', 'lastName']: \", \\\n",
    "      df.groupby(['song', 'firstName', 'lastName']).agg('count').shape[0])"
   ]
  },
  {
   "cell_type": "code",
   "execution_count": 33,
   "metadata": {
    "pycharm": {
     "name": "#%%\n"
    }
   },
   "outputs": [
    {
     "data": {
      "text/html": [
       "<div>\n",
       "<style scoped>\n",
       "    .dataframe tbody tr th:only-of-type {\n",
       "        vertical-align: middle;\n",
       "    }\n",
       "\n",
       "    .dataframe tbody tr th {\n",
       "        vertical-align: top;\n",
       "    }\n",
       "\n",
       "    .dataframe thead th {\n",
       "        text-align: right;\n",
       "    }\n",
       "</style>\n",
       "<table border=\"1\" class=\"dataframe\">\n",
       "  <thead>\n",
       "    <tr style=\"text-align: right;\">\n",
       "      <th></th>\n",
       "      <th>artist</th>\n",
       "      <th>firstName</th>\n",
       "      <th>gender</th>\n",
       "      <th>itemInSession</th>\n",
       "      <th>lastName</th>\n",
       "      <th>length</th>\n",
       "      <th>level</th>\n",
       "      <th>location</th>\n",
       "      <th>sessionId</th>\n",
       "      <th>song</th>\n",
       "      <th>userId</th>\n",
       "    </tr>\n",
       "  </thead>\n",
       "  <tbody>\n",
       "    <tr>\n",
       "      <th>826</th>\n",
       "      <td>Explosions In The Sky</td>\n",
       "      <td>Adelyn</td>\n",
       "      <td>F</td>\n",
       "      <td>0</td>\n",
       "      <td>Jordan</td>\n",
       "      <td>497.47546</td>\n",
       "      <td>free</td>\n",
       "      <td>Chicago-Naperville-Elgin, IL-IN-WI</td>\n",
       "      <td>458</td>\n",
       "      <td>Your Hand In Mine</td>\n",
       "      <td>7</td>\n",
       "    </tr>\n",
       "    <tr>\n",
       "      <th>4296</th>\n",
       "      <td>Method Man</td>\n",
       "      <td>Adelyn</td>\n",
       "      <td>F</td>\n",
       "      <td>1</td>\n",
       "      <td>Jordan</td>\n",
       "      <td>204.64281</td>\n",
       "      <td>free</td>\n",
       "      <td>Chicago-Naperville-Elgin, IL-IN-WI</td>\n",
       "      <td>391</td>\n",
       "      <td>The Motto</td>\n",
       "      <td>7</td>\n",
       "    </tr>\n",
       "    <tr>\n",
       "      <th>4297</th>\n",
       "      <td>The Stanley Brothers</td>\n",
       "      <td>Adelyn</td>\n",
       "      <td>F</td>\n",
       "      <td>2</td>\n",
       "      <td>Jordan</td>\n",
       "      <td>179.69587</td>\n",
       "      <td>free</td>\n",
       "      <td>Chicago-Naperville-Elgin, IL-IN-WI</td>\n",
       "      <td>391</td>\n",
       "      <td>I'm A Man Of Constant Sorrow</td>\n",
       "      <td>7</td>\n",
       "    </tr>\n",
       "    <tr>\n",
       "      <th>4298</th>\n",
       "      <td>Dexter Freebish</td>\n",
       "      <td>Adelyn</td>\n",
       "      <td>F</td>\n",
       "      <td>3</td>\n",
       "      <td>Jordan</td>\n",
       "      <td>210.54649</td>\n",
       "      <td>free</td>\n",
       "      <td>Chicago-Naperville-Elgin, IL-IN-WI</td>\n",
       "      <td>391</td>\n",
       "      <td>Deeper</td>\n",
       "      <td>7</td>\n",
       "    </tr>\n",
       "    <tr>\n",
       "      <th>6600</th>\n",
       "      <td>Static-X</td>\n",
       "      <td>Adelyn</td>\n",
       "      <td>F</td>\n",
       "      <td>0</td>\n",
       "      <td>Jordan</td>\n",
       "      <td>183.69261</td>\n",
       "      <td>free</td>\n",
       "      <td>Chicago-Naperville-Elgin, IL-IN-WI</td>\n",
       "      <td>6</td>\n",
       "      <td>Dirthouse (Album Version)</td>\n",
       "      <td>7</td>\n",
       "    </tr>\n",
       "    <tr>\n",
       "      <th>357</th>\n",
       "      <td>Finger Eleven</td>\n",
       "      <td>Adler</td>\n",
       "      <td>M</td>\n",
       "      <td>1</td>\n",
       "      <td>Barrera</td>\n",
       "      <td>259.68281</td>\n",
       "      <td>free</td>\n",
       "      <td>New York-Newark-Jersey City, NY-NJ-PA</td>\n",
       "      <td>198</td>\n",
       "      <td>Obvious Heart</td>\n",
       "      <td>100</td>\n",
       "    </tr>\n",
       "    <tr>\n",
       "      <th>358</th>\n",
       "      <td>Shaggy</td>\n",
       "      <td>Adler</td>\n",
       "      <td>M</td>\n",
       "      <td>2</td>\n",
       "      <td>Barrera</td>\n",
       "      <td>212.97587</td>\n",
       "      <td>free</td>\n",
       "      <td>New York-Newark-Jersey City, NY-NJ-PA</td>\n",
       "      <td>198</td>\n",
       "      <td>Intoxication</td>\n",
       "      <td>100</td>\n",
       "    </tr>\n",
       "    <tr>\n",
       "      <th>360</th>\n",
       "      <td>Klaus Doldinger's Passport</td>\n",
       "      <td>Adler</td>\n",
       "      <td>M</td>\n",
       "      <td>3</td>\n",
       "      <td>Barrera</td>\n",
       "      <td>460.43383</td>\n",
       "      <td>free</td>\n",
       "      <td>New York-Newark-Jersey City, NY-NJ-PA</td>\n",
       "      <td>198</td>\n",
       "      <td>Fairy Tale</td>\n",
       "      <td>100</td>\n",
       "    </tr>\n",
       "    <tr>\n",
       "      <th>438</th>\n",
       "      <td>Jem</td>\n",
       "      <td>Adler</td>\n",
       "      <td>M</td>\n",
       "      <td>0</td>\n",
       "      <td>Barrera</td>\n",
       "      <td>242.18077</td>\n",
       "      <td>free</td>\n",
       "      <td>New York-Newark-Jersey City, NY-NJ-PA</td>\n",
       "      <td>301</td>\n",
       "      <td>Amazing Life</td>\n",
       "      <td>100</td>\n",
       "    </tr>\n",
       "    <tr>\n",
       "      <th>439</th>\n",
       "      <td>Jagged Edge featuring Run of Run DMC</td>\n",
       "      <td>Adler</td>\n",
       "      <td>M</td>\n",
       "      <td>1</td>\n",
       "      <td>Barrera</td>\n",
       "      <td>248.37179</td>\n",
       "      <td>free</td>\n",
       "      <td>New York-Newark-Jersey City, NY-NJ-PA</td>\n",
       "      <td>301</td>\n",
       "      <td>Let's Get Married</td>\n",
       "      <td>100</td>\n",
       "    </tr>\n",
       "    <tr>\n",
       "      <th>708</th>\n",
       "      <td>Linkin Park</td>\n",
       "      <td>Adler</td>\n",
       "      <td>M</td>\n",
       "      <td>0</td>\n",
       "      <td>Barrera</td>\n",
       "      <td>164.41424</td>\n",
       "      <td>free</td>\n",
       "      <td>New York-Newark-Jersey City, NY-NJ-PA</td>\n",
       "      <td>341</td>\n",
       "      <td>Bleed It Out (Album Version)</td>\n",
       "      <td>100</td>\n",
       "    </tr>\n",
       "    <tr>\n",
       "      <th>3397</th>\n",
       "      <td>Lonnie Gordon</td>\n",
       "      <td>Adler</td>\n",
       "      <td>M</td>\n",
       "      <td>1</td>\n",
       "      <td>Barrera</td>\n",
       "      <td>181.21098</td>\n",
       "      <td>free</td>\n",
       "      <td>New York-Newark-Jersey City, NY-NJ-PA</td>\n",
       "      <td>595</td>\n",
       "      <td>Catch You Baby (Steve Pitron &amp; Max Sanna Radio...</td>\n",
       "      <td>100</td>\n",
       "    </tr>\n",
       "    <tr>\n",
       "      <th>3509</th>\n",
       "      <td>Gustavo Cerati</td>\n",
       "      <td>Adler</td>\n",
       "      <td>M</td>\n",
       "      <td>1</td>\n",
       "      <td>Barrera</td>\n",
       "      <td>249.44281</td>\n",
       "      <td>free</td>\n",
       "      <td>New York-Newark-Jersey City, NY-NJ-PA</td>\n",
       "      <td>248</td>\n",
       "      <td>Uno Entre 1000</td>\n",
       "      <td>100</td>\n",
       "    </tr>\n",
       "    <tr>\n",
       "      <th>3510</th>\n",
       "      <td>Limp Bizkit</td>\n",
       "      <td>Adler</td>\n",
       "      <td>M</td>\n",
       "      <td>2</td>\n",
       "      <td>Barrera</td>\n",
       "      <td>270.49751</td>\n",
       "      <td>free</td>\n",
       "      <td>New York-Newark-Jersey City, NY-NJ-PA</td>\n",
       "      <td>248</td>\n",
       "      <td>Behind Blue Eyes</td>\n",
       "      <td>100</td>\n",
       "    </tr>\n",
       "    <tr>\n",
       "      <th>4661</th>\n",
       "      <td>Chevelle</td>\n",
       "      <td>Adler</td>\n",
       "      <td>M</td>\n",
       "      <td>0</td>\n",
       "      <td>Barrera</td>\n",
       "      <td>389.85098</td>\n",
       "      <td>free</td>\n",
       "      <td>New York-Newark-Jersey City, NY-NJ-PA</td>\n",
       "      <td>174</td>\n",
       "      <td>Dos (LP Version)</td>\n",
       "      <td>100</td>\n",
       "    </tr>\n",
       "    <tr>\n",
       "      <th>4663</th>\n",
       "      <td>Jorge Drexler</td>\n",
       "      <td>Adler</td>\n",
       "      <td>M</td>\n",
       "      <td>1</td>\n",
       "      <td>Barrera</td>\n",
       "      <td>272.14322</td>\n",
       "      <td>free</td>\n",
       "      <td>New York-Newark-Jersey City, NY-NJ-PA</td>\n",
       "      <td>174</td>\n",
       "      <td>Salvapantallas</td>\n",
       "      <td>100</td>\n",
       "    </tr>\n",
       "    <tr>\n",
       "      <th>4665</th>\n",
       "      <td>The Mercury Program</td>\n",
       "      <td>Adler</td>\n",
       "      <td>M</td>\n",
       "      <td>2</td>\n",
       "      <td>Barrera</td>\n",
       "      <td>449.12281</td>\n",
       "      <td>free</td>\n",
       "      <td>New York-Newark-Jersey City, NY-NJ-PA</td>\n",
       "      <td>174</td>\n",
       "      <td>Marianas</td>\n",
       "      <td>100</td>\n",
       "    </tr>\n",
       "    <tr>\n",
       "      <th>4807</th>\n",
       "      <td>Concrete Blonde</td>\n",
       "      <td>Adler</td>\n",
       "      <td>M</td>\n",
       "      <td>0</td>\n",
       "      <td>Barrera</td>\n",
       "      <td>270.28853</td>\n",
       "      <td>free</td>\n",
       "      <td>New York-Newark-Jersey City, NY-NJ-PA</td>\n",
       "      <td>942</td>\n",
       "      <td>Bloodletting (The Vampire Song)</td>\n",
       "      <td>100</td>\n",
       "    </tr>\n",
       "    <tr>\n",
       "      <th>5863</th>\n",
       "      <td>Plan B</td>\n",
       "      <td>Adler</td>\n",
       "      <td>M</td>\n",
       "      <td>1</td>\n",
       "      <td>Barrera</td>\n",
       "      <td>254.95465</td>\n",
       "      <td>free</td>\n",
       "      <td>New York-Newark-Jersey City, NY-NJ-PA</td>\n",
       "      <td>428</td>\n",
       "      <td>Traded In My Cigarettes</td>\n",
       "      <td>100</td>\n",
       "    </tr>\n",
       "    <tr>\n",
       "      <th>5864</th>\n",
       "      <td>Rell featuring Dert_ Killa Klump_ Silence</td>\n",
       "      <td>Adler</td>\n",
       "      <td>M</td>\n",
       "      <td>2</td>\n",
       "      <td>Barrera</td>\n",
       "      <td>223.97342</td>\n",
       "      <td>free</td>\n",
       "      <td>New York-Newark-Jersey City, NY-NJ-PA</td>\n",
       "      <td>428</td>\n",
       "      <td>Talk Is Drastik</td>\n",
       "      <td>100</td>\n",
       "    </tr>\n",
       "    <tr>\n",
       "      <th>5865</th>\n",
       "      <td>K-OS</td>\n",
       "      <td>Adler</td>\n",
       "      <td>M</td>\n",
       "      <td>3</td>\n",
       "      <td>Barrera</td>\n",
       "      <td>211.33016</td>\n",
       "      <td>free</td>\n",
       "      <td>New York-Newark-Jersey City, NY-NJ-PA</td>\n",
       "      <td>428</td>\n",
       "      <td>EMCEE Murdah</td>\n",
       "      <td>100</td>\n",
       "    </tr>\n",
       "    <tr>\n",
       "      <th>5866</th>\n",
       "      <td>Vanessa Carlton</td>\n",
       "      <td>Adler</td>\n",
       "      <td>M</td>\n",
       "      <td>4</td>\n",
       "      <td>Barrera</td>\n",
       "      <td>272.40444</td>\n",
       "      <td>free</td>\n",
       "      <td>New York-Newark-Jersey City, NY-NJ-PA</td>\n",
       "      <td>428</td>\n",
       "      <td>Come Undone</td>\n",
       "      <td>100</td>\n",
       "    </tr>\n",
       "    <tr>\n",
       "      <th>6335</th>\n",
       "      <td>Coldplay</td>\n",
       "      <td>Adler</td>\n",
       "      <td>M</td>\n",
       "      <td>0</td>\n",
       "      <td>Barrera</td>\n",
       "      <td>318.66730</td>\n",
       "      <td>free</td>\n",
       "      <td>New York-Newark-Jersey City, NY-NJ-PA</td>\n",
       "      <td>493</td>\n",
       "      <td>Politik</td>\n",
       "      <td>100</td>\n",
       "    </tr>\n",
       "    <tr>\n",
       "      <th>6336</th>\n",
       "      <td>Linkin Park</td>\n",
       "      <td>Adler</td>\n",
       "      <td>M</td>\n",
       "      <td>1</td>\n",
       "      <td>Barrera</td>\n",
       "      <td>268.61669</td>\n",
       "      <td>free</td>\n",
       "      <td>New York-Newark-Jersey City, NY-NJ-PA</td>\n",
       "      <td>493</td>\n",
       "      <td>New Divide (Album Version)</td>\n",
       "      <td>100</td>\n",
       "    </tr>\n",
       "    <tr>\n",
       "      <th>14</th>\n",
       "      <td>Alice In Chains</td>\n",
       "      <td>Aiden</td>\n",
       "      <td>M</td>\n",
       "      <td>1</td>\n",
       "      <td>Hess</td>\n",
       "      <td>223.26812</td>\n",
       "      <td>free</td>\n",
       "      <td>La Crosse-Onalaska, WI-MN</td>\n",
       "      <td>917</td>\n",
       "      <td>Would?</td>\n",
       "      <td>86</td>\n",
       "    </tr>\n",
       "    <tr>\n",
       "      <th>15</th>\n",
       "      <td>Natalie Walker</td>\n",
       "      <td>Aiden</td>\n",
       "      <td>M</td>\n",
       "      <td>2</td>\n",
       "      <td>Hess</td>\n",
       "      <td>191.84281</td>\n",
       "      <td>free</td>\n",
       "      <td>La Crosse-Onalaska, WI-MN</td>\n",
       "      <td>917</td>\n",
       "      <td>Colorblind</td>\n",
       "      <td>86</td>\n",
       "    </tr>\n",
       "    <tr>\n",
       "      <th>35</th>\n",
       "      <td>Los Lobos</td>\n",
       "      <td>Aiden</td>\n",
       "      <td>M</td>\n",
       "      <td>0</td>\n",
       "      <td>Hess</td>\n",
       "      <td>174.18404</td>\n",
       "      <td>free</td>\n",
       "      <td>La Crosse-Onalaska, WI-MN</td>\n",
       "      <td>978</td>\n",
       "      <td>La Bamba</td>\n",
       "      <td>86</td>\n",
       "    </tr>\n",
       "    <tr>\n",
       "      <th>36</th>\n",
       "      <td>Robert Pollard</td>\n",
       "      <td>Aiden</td>\n",
       "      <td>M</td>\n",
       "      <td>1</td>\n",
       "      <td>Hess</td>\n",
       "      <td>202.91873</td>\n",
       "      <td>free</td>\n",
       "      <td>La Crosse-Onalaska, WI-MN</td>\n",
       "      <td>978</td>\n",
       "      <td>We All Got Out (of the Army)</td>\n",
       "      <td>86</td>\n",
       "    </tr>\n",
       "    <tr>\n",
       "      <th>37</th>\n",
       "      <td>MÃÂ¥ns ZelmerlÃÂ¶w</td>\n",
       "      <td>Aiden</td>\n",
       "      <td>M</td>\n",
       "      <td>2</td>\n",
       "      <td>Hess</td>\n",
       "      <td>206.96771</td>\n",
       "      <td>free</td>\n",
       "      <td>La Crosse-Onalaska, WI-MN</td>\n",
       "      <td>978</td>\n",
       "      <td>Brother Oh Brother</td>\n",
       "      <td>86</td>\n",
       "    </tr>\n",
       "    <tr>\n",
       "      <th>38</th>\n",
       "      <td>Shakira</td>\n",
       "      <td>Aiden</td>\n",
       "      <td>M</td>\n",
       "      <td>3</td>\n",
       "      <td>Hess</td>\n",
       "      <td>192.70485</td>\n",
       "      <td>free</td>\n",
       "      <td>La Crosse-Onalaska, WI-MN</td>\n",
       "      <td>978</td>\n",
       "      <td>Did it Again</td>\n",
       "      <td>86</td>\n",
       "    </tr>\n",
       "    <tr>\n",
       "      <th>...</th>\n",
       "      <td>...</td>\n",
       "      <td>...</td>\n",
       "      <td>...</td>\n",
       "      <td>...</td>\n",
       "      <td>...</td>\n",
       "      <td>...</td>\n",
       "      <td>...</td>\n",
       "      <td>...</td>\n",
       "      <td>...</td>\n",
       "      <td>...</td>\n",
       "      <td>...</td>\n",
       "    </tr>\n",
       "    <tr>\n",
       "      <th>4412</th>\n",
       "      <td>Daughtry</td>\n",
       "      <td>Tucker</td>\n",
       "      <td>M</td>\n",
       "      <td>0</td>\n",
       "      <td>Garrison</td>\n",
       "      <td>201.63873</td>\n",
       "      <td>free</td>\n",
       "      <td>Oxnard-Thousand Oaks-Ventura, CA</td>\n",
       "      <td>798</td>\n",
       "      <td>Gone</td>\n",
       "      <td>40</td>\n",
       "    </tr>\n",
       "    <tr>\n",
       "      <th>4729</th>\n",
       "      <td>Florence + The Machine</td>\n",
       "      <td>Tucker</td>\n",
       "      <td>M</td>\n",
       "      <td>0</td>\n",
       "      <td>Garrison</td>\n",
       "      <td>219.66322</td>\n",
       "      <td>free</td>\n",
       "      <td>Oxnard-Thousand Oaks-Ventura, CA</td>\n",
       "      <td>976</td>\n",
       "      <td>Dog Days Are Over (Radio Edit)</td>\n",
       "      <td>40</td>\n",
       "    </tr>\n",
       "    <tr>\n",
       "      <th>4730</th>\n",
       "      <td>The White Stripes</td>\n",
       "      <td>Tucker</td>\n",
       "      <td>M</td>\n",
       "      <td>1</td>\n",
       "      <td>Garrison</td>\n",
       "      <td>160.31302</td>\n",
       "      <td>free</td>\n",
       "      <td>Oxnard-Thousand Oaks-Ventura, CA</td>\n",
       "      <td>976</td>\n",
       "      <td>Blue Orchid</td>\n",
       "      <td>40</td>\n",
       "    </tr>\n",
       "    <tr>\n",
       "      <th>2572</th>\n",
       "      <td>Renato Carosone</td>\n",
       "      <td>Walter</td>\n",
       "      <td>M</td>\n",
       "      <td>0</td>\n",
       "      <td>Frye</td>\n",
       "      <td>192.57424</td>\n",
       "      <td>free</td>\n",
       "      <td>San Francisco-Oakland-Hayward, CA</td>\n",
       "      <td>1047</td>\n",
       "      <td>Blues (2005 Digital Remaster)</td>\n",
       "      <td>39</td>\n",
       "    </tr>\n",
       "    <tr>\n",
       "      <th>5028</th>\n",
       "      <td>Lanae' Hale</td>\n",
       "      <td>Walter</td>\n",
       "      <td>M</td>\n",
       "      <td>0</td>\n",
       "      <td>Frye</td>\n",
       "      <td>195.36934</td>\n",
       "      <td>free</td>\n",
       "      <td>San Francisco-Oakland-Hayward, CA</td>\n",
       "      <td>451</td>\n",
       "      <td>Beautiful Things</td>\n",
       "      <td>39</td>\n",
       "    </tr>\n",
       "    <tr>\n",
       "      <th>421</th>\n",
       "      <td>Anne-Lie RydÃÂ©</td>\n",
       "      <td>Wyatt</td>\n",
       "      <td>M</td>\n",
       "      <td>0</td>\n",
       "      <td>Scott</td>\n",
       "      <td>176.90077</td>\n",
       "      <td>free</td>\n",
       "      <td>Eureka-Arcata-Fortuna, CA</td>\n",
       "      <td>8</td>\n",
       "      <td>SÃÂ¥n't ÃÂr Livet (You Can Have Her) (2002 ...</td>\n",
       "      <td>9</td>\n",
       "    </tr>\n",
       "    <tr>\n",
       "      <th>422</th>\n",
       "      <td>The Smiths</td>\n",
       "      <td>Wyatt</td>\n",
       "      <td>M</td>\n",
       "      <td>1</td>\n",
       "      <td>Scott</td>\n",
       "      <td>242.91220</td>\n",
       "      <td>free</td>\n",
       "      <td>Eureka-Arcata-Fortuna, CA</td>\n",
       "      <td>8</td>\n",
       "      <td>There Is A Light That Never Goes Out</td>\n",
       "      <td>9</td>\n",
       "    </tr>\n",
       "    <tr>\n",
       "      <th>423</th>\n",
       "      <td>Metallica</td>\n",
       "      <td>Wyatt</td>\n",
       "      <td>M</td>\n",
       "      <td>2</td>\n",
       "      <td>Scott</td>\n",
       "      <td>515.21261</td>\n",
       "      <td>free</td>\n",
       "      <td>Eureka-Arcata-Fortuna, CA</td>\n",
       "      <td>8</td>\n",
       "      <td>Master Of Puppets</td>\n",
       "      <td>9</td>\n",
       "    </tr>\n",
       "    <tr>\n",
       "      <th>426</th>\n",
       "      <td>Juan Carlos Baglietto</td>\n",
       "      <td>Wyatt</td>\n",
       "      <td>M</td>\n",
       "      <td>3</td>\n",
       "      <td>Scott</td>\n",
       "      <td>221.80526</td>\n",
       "      <td>free</td>\n",
       "      <td>Eureka-Arcata-Fortuna, CA</td>\n",
       "      <td>8</td>\n",
       "      <td>Cuando</td>\n",
       "      <td>9</td>\n",
       "    </tr>\n",
       "    <tr>\n",
       "      <th>427</th>\n",
       "      <td>Juan Carlos Baglietto</td>\n",
       "      <td>Wyatt</td>\n",
       "      <td>M</td>\n",
       "      <td>4</td>\n",
       "      <td>Scott</td>\n",
       "      <td>285.64853</td>\n",
       "      <td>free</td>\n",
       "      <td>Eureka-Arcata-Fortuna, CA</td>\n",
       "      <td>8</td>\n",
       "      <td>Era En Abril</td>\n",
       "      <td>9</td>\n",
       "    </tr>\n",
       "    <tr>\n",
       "      <th>2681</th>\n",
       "      <td>Fightstar</td>\n",
       "      <td>Wyatt</td>\n",
       "      <td>M</td>\n",
       "      <td>1</td>\n",
       "      <td>Scott</td>\n",
       "      <td>212.61016</td>\n",
       "      <td>free</td>\n",
       "      <td>Eureka-Arcata-Fortuna, CA</td>\n",
       "      <td>1010</td>\n",
       "      <td>The English Way</td>\n",
       "      <td>9</td>\n",
       "    </tr>\n",
       "    <tr>\n",
       "      <th>4733</th>\n",
       "      <td>Pickin' On Series</td>\n",
       "      <td>Wyatt</td>\n",
       "      <td>M</td>\n",
       "      <td>0</td>\n",
       "      <td>Scott</td>\n",
       "      <td>199.41832</td>\n",
       "      <td>free</td>\n",
       "      <td>Eureka-Arcata-Fortuna, CA</td>\n",
       "      <td>922</td>\n",
       "      <td>A Different City</td>\n",
       "      <td>9</td>\n",
       "    </tr>\n",
       "    <tr>\n",
       "      <th>4735</th>\n",
       "      <td>Heart</td>\n",
       "      <td>Wyatt</td>\n",
       "      <td>M</td>\n",
       "      <td>1</td>\n",
       "      <td>Scott</td>\n",
       "      <td>270.18404</td>\n",
       "      <td>free</td>\n",
       "      <td>Eureka-Arcata-Fortuna, CA</td>\n",
       "      <td>922</td>\n",
       "      <td>Wild Child</td>\n",
       "      <td>9</td>\n",
       "    </tr>\n",
       "    <tr>\n",
       "      <th>4737</th>\n",
       "      <td>AFI</td>\n",
       "      <td>Wyatt</td>\n",
       "      <td>M</td>\n",
       "      <td>6</td>\n",
       "      <td>Scott</td>\n",
       "      <td>256.86159</td>\n",
       "      <td>free</td>\n",
       "      <td>Eureka-Arcata-Fortuna, CA</td>\n",
       "      <td>922</td>\n",
       "      <td>The Interview</td>\n",
       "      <td>9</td>\n",
       "    </tr>\n",
       "    <tr>\n",
       "      <th>5184</th>\n",
       "      <td>Nik &amp; Jay</td>\n",
       "      <td>Wyatt</td>\n",
       "      <td>M</td>\n",
       "      <td>0</td>\n",
       "      <td>Scott</td>\n",
       "      <td>196.51873</td>\n",
       "      <td>free</td>\n",
       "      <td>Eureka-Arcata-Fortuna, CA</td>\n",
       "      <td>379</td>\n",
       "      <td>Pop-Pop!</td>\n",
       "      <td>9</td>\n",
       "    </tr>\n",
       "    <tr>\n",
       "      <th>5332</th>\n",
       "      <td>Paul Oakenfold</td>\n",
       "      <td>Wyatt</td>\n",
       "      <td>M</td>\n",
       "      <td>1</td>\n",
       "      <td>Scott</td>\n",
       "      <td>254.14485</td>\n",
       "      <td>free</td>\n",
       "      <td>Eureka-Arcata-Fortuna, CA</td>\n",
       "      <td>527</td>\n",
       "      <td>Ready_ Steady_ Go (Album Version)</td>\n",
       "      <td>9</td>\n",
       "    </tr>\n",
       "    <tr>\n",
       "      <th>5335</th>\n",
       "      <td>Train</td>\n",
       "      <td>Wyatt</td>\n",
       "      <td>M</td>\n",
       "      <td>2</td>\n",
       "      <td>Scott</td>\n",
       "      <td>216.76363</td>\n",
       "      <td>free</td>\n",
       "      <td>Eureka-Arcata-Fortuna, CA</td>\n",
       "      <td>527</td>\n",
       "      <td>Hey_ Soul Sister</td>\n",
       "      <td>9</td>\n",
       "    </tr>\n",
       "    <tr>\n",
       "      <th>6038</th>\n",
       "      <td>Madcon</td>\n",
       "      <td>Wyatt</td>\n",
       "      <td>M</td>\n",
       "      <td>1</td>\n",
       "      <td>Scott</td>\n",
       "      <td>215.92771</td>\n",
       "      <td>free</td>\n",
       "      <td>Eureka-Arcata-Fortuna, CA</td>\n",
       "      <td>551</td>\n",
       "      <td>Beggin'</td>\n",
       "      <td>9</td>\n",
       "    </tr>\n",
       "    <tr>\n",
       "      <th>6420</th>\n",
       "      <td>John Mayer</td>\n",
       "      <td>Wyatt</td>\n",
       "      <td>M</td>\n",
       "      <td>0</td>\n",
       "      <td>Scott</td>\n",
       "      <td>275.27791</td>\n",
       "      <td>free</td>\n",
       "      <td>Eureka-Arcata-Fortuna, CA</td>\n",
       "      <td>856</td>\n",
       "      <td>All We Ever Do Is Say Goodbye</td>\n",
       "      <td>9</td>\n",
       "    </tr>\n",
       "    <tr>\n",
       "      <th>6421</th>\n",
       "      <td>10_000 Maniacs</td>\n",
       "      <td>Wyatt</td>\n",
       "      <td>M</td>\n",
       "      <td>2</td>\n",
       "      <td>Scott</td>\n",
       "      <td>251.87220</td>\n",
       "      <td>free</td>\n",
       "      <td>Eureka-Arcata-Fortuna, CA</td>\n",
       "      <td>856</td>\n",
       "      <td>Gun Shy (LP Version)</td>\n",
       "      <td>9</td>\n",
       "    </tr>\n",
       "    <tr>\n",
       "      <th>6550</th>\n",
       "      <td>Red Hot Chili Peppers</td>\n",
       "      <td>Wyatt</td>\n",
       "      <td>M</td>\n",
       "      <td>0</td>\n",
       "      <td>Scott</td>\n",
       "      <td>265.50812</td>\n",
       "      <td>free</td>\n",
       "      <td>Eureka-Arcata-Fortuna, CA</td>\n",
       "      <td>335</td>\n",
       "      <td>Under The Bridge (Album Version)</td>\n",
       "      <td>9</td>\n",
       "    </tr>\n",
       "    <tr>\n",
       "      <th>4079</th>\n",
       "      <td>Divinyls</td>\n",
       "      <td>Zachary</td>\n",
       "      <td>M</td>\n",
       "      <td>0</td>\n",
       "      <td>Thomas</td>\n",
       "      <td>227.68281</td>\n",
       "      <td>free</td>\n",
       "      <td>New York-Newark-Jersey City, NY-NJ-PA</td>\n",
       "      <td>592</td>\n",
       "      <td>I Touch Myself</td>\n",
       "      <td>19</td>\n",
       "    </tr>\n",
       "    <tr>\n",
       "      <th>4081</th>\n",
       "      <td>Drowning Pool</td>\n",
       "      <td>Zachary</td>\n",
       "      <td>M</td>\n",
       "      <td>1</td>\n",
       "      <td>Thomas</td>\n",
       "      <td>229.35465</td>\n",
       "      <td>free</td>\n",
       "      <td>New York-Newark-Jersey City, NY-NJ-PA</td>\n",
       "      <td>592</td>\n",
       "      <td>Reason I'm Alive (Explicit)</td>\n",
       "      <td>19</td>\n",
       "    </tr>\n",
       "    <tr>\n",
       "      <th>4082</th>\n",
       "      <td>Brujeria</td>\n",
       "      <td>Zachary</td>\n",
       "      <td>M</td>\n",
       "      <td>2</td>\n",
       "      <td>Thomas</td>\n",
       "      <td>143.25506</td>\n",
       "      <td>free</td>\n",
       "      <td>New York-Newark-Jersey City, NY-NJ-PA</td>\n",
       "      <td>592</td>\n",
       "      <td>Pititis_ Te Invoco (Album Version)</td>\n",
       "      <td>19</td>\n",
       "    </tr>\n",
       "    <tr>\n",
       "      <th>4083</th>\n",
       "      <td>Joyce Cooling</td>\n",
       "      <td>Zachary</td>\n",
       "      <td>M</td>\n",
       "      <td>3</td>\n",
       "      <td>Thomas</td>\n",
       "      <td>248.11057</td>\n",
       "      <td>free</td>\n",
       "      <td>New York-Newark-Jersey City, NY-NJ-PA</td>\n",
       "      <td>592</td>\n",
       "      <td>It's Time I Go (Jazz)</td>\n",
       "      <td>19</td>\n",
       "    </tr>\n",
       "    <tr>\n",
       "      <th>4084</th>\n",
       "      <td>The White Stripes</td>\n",
       "      <td>Zachary</td>\n",
       "      <td>M</td>\n",
       "      <td>4</td>\n",
       "      <td>Thomas</td>\n",
       "      <td>160.31302</td>\n",
       "      <td>free</td>\n",
       "      <td>New York-Newark-Jersey City, NY-NJ-PA</td>\n",
       "      <td>592</td>\n",
       "      <td>Blue Orchid</td>\n",
       "      <td>19</td>\n",
       "    </tr>\n",
       "    <tr>\n",
       "      <th>4085</th>\n",
       "      <td>R.I.O.</td>\n",
       "      <td>Zachary</td>\n",
       "      <td>M</td>\n",
       "      <td>5</td>\n",
       "      <td>Thomas</td>\n",
       "      <td>217.12934</td>\n",
       "      <td>free</td>\n",
       "      <td>New York-Newark-Jersey City, NY-NJ-PA</td>\n",
       "      <td>592</td>\n",
       "      <td>When The Sun Comes Down</td>\n",
       "      <td>19</td>\n",
       "    </tr>\n",
       "    <tr>\n",
       "      <th>4086</th>\n",
       "      <td>Bap</td>\n",
       "      <td>Zachary</td>\n",
       "      <td>M</td>\n",
       "      <td>6</td>\n",
       "      <td>Thomas</td>\n",
       "      <td>277.21098</td>\n",
       "      <td>free</td>\n",
       "      <td>New York-Newark-Jersey City, NY-NJ-PA</td>\n",
       "      <td>592</td>\n",
       "      <td>FÃÂ¼r Maria (Album Version)</td>\n",
       "      <td>19</td>\n",
       "    </tr>\n",
       "    <tr>\n",
       "      <th>4832</th>\n",
       "      <td>Rosana</td>\n",
       "      <td>Zachary</td>\n",
       "      <td>M</td>\n",
       "      <td>0</td>\n",
       "      <td>Thomas</td>\n",
       "      <td>250.33098</td>\n",
       "      <td>free</td>\n",
       "      <td>New York-Newark-Jersey City, NY-NJ-PA</td>\n",
       "      <td>819</td>\n",
       "      <td>Pa Ti No Estoy</td>\n",
       "      <td>19</td>\n",
       "    </tr>\n",
       "    <tr>\n",
       "      <th>4835</th>\n",
       "      <td>Eddie Vedder</td>\n",
       "      <td>Zachary</td>\n",
       "      <td>M</td>\n",
       "      <td>1</td>\n",
       "      <td>Thomas</td>\n",
       "      <td>236.30322</td>\n",
       "      <td>free</td>\n",
       "      <td>New York-Newark-Jersey City, NY-NJ-PA</td>\n",
       "      <td>819</td>\n",
       "      <td>Society</td>\n",
       "      <td>19</td>\n",
       "    </tr>\n",
       "  </tbody>\n",
       "</table>\n",
       "<p>6820 rows × 11 columns</p>\n",
       "</div>"
      ],
      "text/plain": [
       "                                         artist firstName gender  \\\n",
       "826                       Explosions In The Sky    Adelyn      F   \n",
       "4296                                 Method Man    Adelyn      F   \n",
       "4297                       The Stanley Brothers    Adelyn      F   \n",
       "4298                            Dexter Freebish    Adelyn      F   \n",
       "6600                                   Static-X    Adelyn      F   \n",
       "357                               Finger Eleven     Adler      M   \n",
       "358                                      Shaggy     Adler      M   \n",
       "360                  Klaus Doldinger's Passport     Adler      M   \n",
       "438                                         Jem     Adler      M   \n",
       "439        Jagged Edge featuring Run of Run DMC     Adler      M   \n",
       "708                                 Linkin Park     Adler      M   \n",
       "3397                              Lonnie Gordon     Adler      M   \n",
       "3509                             Gustavo Cerati     Adler      M   \n",
       "3510                                Limp Bizkit     Adler      M   \n",
       "4661                                   Chevelle     Adler      M   \n",
       "4663                              Jorge Drexler     Adler      M   \n",
       "4665                        The Mercury Program     Adler      M   \n",
       "4807                            Concrete Blonde     Adler      M   \n",
       "5863                                     Plan B     Adler      M   \n",
       "5864  Rell featuring Dert_ Killa Klump_ Silence     Adler      M   \n",
       "5865                                       K-OS     Adler      M   \n",
       "5866                            Vanessa Carlton     Adler      M   \n",
       "6335                                   Coldplay     Adler      M   \n",
       "6336                                Linkin Park     Adler      M   \n",
       "14                              Alice In Chains     Aiden      M   \n",
       "15                               Natalie Walker     Aiden      M   \n",
       "35                                    Los Lobos     Aiden      M   \n",
       "36                               Robert Pollard     Aiden      M   \n",
       "37                         MÃÂ¥ns ZelmerlÃÂ¶w     Aiden      M   \n",
       "38                                      Shakira     Aiden      M   \n",
       "...                                         ...       ...    ...   \n",
       "4412                                   Daughtry    Tucker      M   \n",
       "4729                     Florence + The Machine    Tucker      M   \n",
       "4730                          The White Stripes    Tucker      M   \n",
       "2572                            Renato Carosone    Walter      M   \n",
       "5028                                Lanae' Hale    Walter      M   \n",
       "421                            Anne-Lie RydÃÂ©     Wyatt      M   \n",
       "422                                  The Smiths     Wyatt      M   \n",
       "423                                   Metallica     Wyatt      M   \n",
       "426                       Juan Carlos Baglietto     Wyatt      M   \n",
       "427                       Juan Carlos Baglietto     Wyatt      M   \n",
       "2681                                  Fightstar     Wyatt      M   \n",
       "4733                          Pickin' On Series     Wyatt      M   \n",
       "4735                                      Heart     Wyatt      M   \n",
       "4737                                        AFI     Wyatt      M   \n",
       "5184                                  Nik & Jay     Wyatt      M   \n",
       "5332                             Paul Oakenfold     Wyatt      M   \n",
       "5335                                      Train     Wyatt      M   \n",
       "6038                                     Madcon     Wyatt      M   \n",
       "6420                                 John Mayer     Wyatt      M   \n",
       "6421                             10_000 Maniacs     Wyatt      M   \n",
       "6550                      Red Hot Chili Peppers     Wyatt      M   \n",
       "4079                                   Divinyls   Zachary      M   \n",
       "4081                              Drowning Pool   Zachary      M   \n",
       "4082                                   Brujeria   Zachary      M   \n",
       "4083                              Joyce Cooling   Zachary      M   \n",
       "4084                          The White Stripes   Zachary      M   \n",
       "4085                                     R.I.O.   Zachary      M   \n",
       "4086                                        Bap   Zachary      M   \n",
       "4832                                     Rosana   Zachary      M   \n",
       "4835                               Eddie Vedder   Zachary      M   \n",
       "\n",
       "      itemInSession  lastName     length level  \\\n",
       "826               0    Jordan  497.47546  free   \n",
       "4296              1    Jordan  204.64281  free   \n",
       "4297              2    Jordan  179.69587  free   \n",
       "4298              3    Jordan  210.54649  free   \n",
       "6600              0    Jordan  183.69261  free   \n",
       "357               1   Barrera  259.68281  free   \n",
       "358               2   Barrera  212.97587  free   \n",
       "360               3   Barrera  460.43383  free   \n",
       "438               0   Barrera  242.18077  free   \n",
       "439               1   Barrera  248.37179  free   \n",
       "708               0   Barrera  164.41424  free   \n",
       "3397              1   Barrera  181.21098  free   \n",
       "3509              1   Barrera  249.44281  free   \n",
       "3510              2   Barrera  270.49751  free   \n",
       "4661              0   Barrera  389.85098  free   \n",
       "4663              1   Barrera  272.14322  free   \n",
       "4665              2   Barrera  449.12281  free   \n",
       "4807              0   Barrera  270.28853  free   \n",
       "5863              1   Barrera  254.95465  free   \n",
       "5864              2   Barrera  223.97342  free   \n",
       "5865              3   Barrera  211.33016  free   \n",
       "5866              4   Barrera  272.40444  free   \n",
       "6335              0   Barrera  318.66730  free   \n",
       "6336              1   Barrera  268.61669  free   \n",
       "14                1      Hess  223.26812  free   \n",
       "15                2      Hess  191.84281  free   \n",
       "35                0      Hess  174.18404  free   \n",
       "36                1      Hess  202.91873  free   \n",
       "37                2      Hess  206.96771  free   \n",
       "38                3      Hess  192.70485  free   \n",
       "...             ...       ...        ...   ...   \n",
       "4412              0  Garrison  201.63873  free   \n",
       "4729              0  Garrison  219.66322  free   \n",
       "4730              1  Garrison  160.31302  free   \n",
       "2572              0      Frye  192.57424  free   \n",
       "5028              0      Frye  195.36934  free   \n",
       "421               0     Scott  176.90077  free   \n",
       "422               1     Scott  242.91220  free   \n",
       "423               2     Scott  515.21261  free   \n",
       "426               3     Scott  221.80526  free   \n",
       "427               4     Scott  285.64853  free   \n",
       "2681              1     Scott  212.61016  free   \n",
       "4733              0     Scott  199.41832  free   \n",
       "4735              1     Scott  270.18404  free   \n",
       "4737              6     Scott  256.86159  free   \n",
       "5184              0     Scott  196.51873  free   \n",
       "5332              1     Scott  254.14485  free   \n",
       "5335              2     Scott  216.76363  free   \n",
       "6038              1     Scott  215.92771  free   \n",
       "6420              0     Scott  275.27791  free   \n",
       "6421              2     Scott  251.87220  free   \n",
       "6550              0     Scott  265.50812  free   \n",
       "4079              0    Thomas  227.68281  free   \n",
       "4081              1    Thomas  229.35465  free   \n",
       "4082              2    Thomas  143.25506  free   \n",
       "4083              3    Thomas  248.11057  free   \n",
       "4084              4    Thomas  160.31302  free   \n",
       "4085              5    Thomas  217.12934  free   \n",
       "4086              6    Thomas  277.21098  free   \n",
       "4832              0    Thomas  250.33098  free   \n",
       "4835              1    Thomas  236.30322  free   \n",
       "\n",
       "                                   location  sessionId  \\\n",
       "826      Chicago-Naperville-Elgin, IL-IN-WI        458   \n",
       "4296     Chicago-Naperville-Elgin, IL-IN-WI        391   \n",
       "4297     Chicago-Naperville-Elgin, IL-IN-WI        391   \n",
       "4298     Chicago-Naperville-Elgin, IL-IN-WI        391   \n",
       "6600     Chicago-Naperville-Elgin, IL-IN-WI          6   \n",
       "357   New York-Newark-Jersey City, NY-NJ-PA        198   \n",
       "358   New York-Newark-Jersey City, NY-NJ-PA        198   \n",
       "360   New York-Newark-Jersey City, NY-NJ-PA        198   \n",
       "438   New York-Newark-Jersey City, NY-NJ-PA        301   \n",
       "439   New York-Newark-Jersey City, NY-NJ-PA        301   \n",
       "708   New York-Newark-Jersey City, NY-NJ-PA        341   \n",
       "3397  New York-Newark-Jersey City, NY-NJ-PA        595   \n",
       "3509  New York-Newark-Jersey City, NY-NJ-PA        248   \n",
       "3510  New York-Newark-Jersey City, NY-NJ-PA        248   \n",
       "4661  New York-Newark-Jersey City, NY-NJ-PA        174   \n",
       "4663  New York-Newark-Jersey City, NY-NJ-PA        174   \n",
       "4665  New York-Newark-Jersey City, NY-NJ-PA        174   \n",
       "4807  New York-Newark-Jersey City, NY-NJ-PA        942   \n",
       "5863  New York-Newark-Jersey City, NY-NJ-PA        428   \n",
       "5864  New York-Newark-Jersey City, NY-NJ-PA        428   \n",
       "5865  New York-Newark-Jersey City, NY-NJ-PA        428   \n",
       "5866  New York-Newark-Jersey City, NY-NJ-PA        428   \n",
       "6335  New York-Newark-Jersey City, NY-NJ-PA        493   \n",
       "6336  New York-Newark-Jersey City, NY-NJ-PA        493   \n",
       "14                La Crosse-Onalaska, WI-MN        917   \n",
       "15                La Crosse-Onalaska, WI-MN        917   \n",
       "35                La Crosse-Onalaska, WI-MN        978   \n",
       "36                La Crosse-Onalaska, WI-MN        978   \n",
       "37                La Crosse-Onalaska, WI-MN        978   \n",
       "38                La Crosse-Onalaska, WI-MN        978   \n",
       "...                                     ...        ...   \n",
       "4412       Oxnard-Thousand Oaks-Ventura, CA        798   \n",
       "4729       Oxnard-Thousand Oaks-Ventura, CA        976   \n",
       "4730       Oxnard-Thousand Oaks-Ventura, CA        976   \n",
       "2572      San Francisco-Oakland-Hayward, CA       1047   \n",
       "5028      San Francisco-Oakland-Hayward, CA        451   \n",
       "421               Eureka-Arcata-Fortuna, CA          8   \n",
       "422               Eureka-Arcata-Fortuna, CA          8   \n",
       "423               Eureka-Arcata-Fortuna, CA          8   \n",
       "426               Eureka-Arcata-Fortuna, CA          8   \n",
       "427               Eureka-Arcata-Fortuna, CA          8   \n",
       "2681              Eureka-Arcata-Fortuna, CA       1010   \n",
       "4733              Eureka-Arcata-Fortuna, CA        922   \n",
       "4735              Eureka-Arcata-Fortuna, CA        922   \n",
       "4737              Eureka-Arcata-Fortuna, CA        922   \n",
       "5184              Eureka-Arcata-Fortuna, CA        379   \n",
       "5332              Eureka-Arcata-Fortuna, CA        527   \n",
       "5335              Eureka-Arcata-Fortuna, CA        527   \n",
       "6038              Eureka-Arcata-Fortuna, CA        551   \n",
       "6420              Eureka-Arcata-Fortuna, CA        856   \n",
       "6421              Eureka-Arcata-Fortuna, CA        856   \n",
       "6550              Eureka-Arcata-Fortuna, CA        335   \n",
       "4079  New York-Newark-Jersey City, NY-NJ-PA        592   \n",
       "4081  New York-Newark-Jersey City, NY-NJ-PA        592   \n",
       "4082  New York-Newark-Jersey City, NY-NJ-PA        592   \n",
       "4083  New York-Newark-Jersey City, NY-NJ-PA        592   \n",
       "4084  New York-Newark-Jersey City, NY-NJ-PA        592   \n",
       "4085  New York-Newark-Jersey City, NY-NJ-PA        592   \n",
       "4086  New York-Newark-Jersey City, NY-NJ-PA        592   \n",
       "4832  New York-Newark-Jersey City, NY-NJ-PA        819   \n",
       "4835  New York-Newark-Jersey City, NY-NJ-PA        819   \n",
       "\n",
       "                                                   song  userId  \n",
       "826                                   Your Hand In Mine       7  \n",
       "4296                                          The Motto       7  \n",
       "4297                       I'm A Man Of Constant Sorrow       7  \n",
       "4298                                             Deeper       7  \n",
       "6600                          Dirthouse (Album Version)       7  \n",
       "357                                       Obvious Heart     100  \n",
       "358                                        Intoxication     100  \n",
       "360                                          Fairy Tale     100  \n",
       "438                                        Amazing Life     100  \n",
       "439                                   Let's Get Married     100  \n",
       "708                        Bleed It Out (Album Version)     100  \n",
       "3397  Catch You Baby (Steve Pitron & Max Sanna Radio...     100  \n",
       "3509                                     Uno Entre 1000     100  \n",
       "3510                                   Behind Blue Eyes     100  \n",
       "4661                                   Dos (LP Version)     100  \n",
       "4663                                     Salvapantallas     100  \n",
       "4665                                           Marianas     100  \n",
       "4807                    Bloodletting (The Vampire Song)     100  \n",
       "5863                            Traded In My Cigarettes     100  \n",
       "5864                                    Talk Is Drastik     100  \n",
       "5865                                       EMCEE Murdah     100  \n",
       "5866                                        Come Undone     100  \n",
       "6335                                            Politik     100  \n",
       "6336                         New Divide (Album Version)     100  \n",
       "14                                               Would?      86  \n",
       "15                                           Colorblind      86  \n",
       "35                                             La Bamba      86  \n",
       "36                         We All Got Out (of the Army)      86  \n",
       "37                                   Brother Oh Brother      86  \n",
       "38                                         Did it Again      86  \n",
       "...                                                 ...     ...  \n",
       "4412                                               Gone      40  \n",
       "4729                     Dog Days Are Over (Radio Edit)      40  \n",
       "4730                                        Blue Orchid      40  \n",
       "2572                      Blues (2005 Digital Remaster)      39  \n",
       "5028                                   Beautiful Things      39  \n",
       "421   SÃÂ¥n't ÃÂr Livet (You Can Have Her) (2002 ...       9  \n",
       "422                There Is A Light That Never Goes Out       9  \n",
       "423                                   Master Of Puppets       9  \n",
       "426                                              Cuando       9  \n",
       "427                                        Era En Abril       9  \n",
       "2681                                    The English Way       9  \n",
       "4733                                   A Different City       9  \n",
       "4735                                         Wild Child       9  \n",
       "4737                                      The Interview       9  \n",
       "5184                                           Pop-Pop!       9  \n",
       "5332                  Ready_ Steady_ Go (Album Version)       9  \n",
       "5335                                   Hey_ Soul Sister       9  \n",
       "6038                                            Beggin'       9  \n",
       "6420                      All We Ever Do Is Say Goodbye       9  \n",
       "6421                               Gun Shy (LP Version)       9  \n",
       "6550                   Under The Bridge (Album Version)       9  \n",
       "4079                                     I Touch Myself      19  \n",
       "4081                        Reason I'm Alive (Explicit)      19  \n",
       "4082                 Pititis_ Te Invoco (Album Version)      19  \n",
       "4083                              It's Time I Go (Jazz)      19  \n",
       "4084                                        Blue Orchid      19  \n",
       "4085                            When The Sun Comes Down      19  \n",
       "4086                       FÃÂ¼r Maria (Album Version)      19  \n",
       "4832                                     Pa Ti No Estoy      19  \n",
       "4835                                            Society      19  \n",
       "\n",
       "[6820 rows x 11 columns]"
      ]
     },
     "execution_count": 33,
     "metadata": {},
     "output_type": "execute_result"
    }
   ],
   "source": [
    "df2 = df.sort_values(['firstName', 'lastName']).groupby(['song', 'firstName', 'lastName'])\n",
    "df2.head(20)"
   ]
  },
  {
   "cell_type": "code",
   "execution_count": 34,
   "metadata": {
    "pycharm": {
     "name": "#%%\n"
    }
   },
   "outputs": [
    {
     "name": "stdout",
     "output_type": "stream",
     "text": [
      "\n",
      "Unique value count for group by ['song', 'sessionId', 'itemInSession']:  6820\n"
     ]
    }
   ],
   "source": [
    "## Query 3: Give me every user name (first and last) in my music app history \n",
    "## who listened to the song 'All Hands Against His Own'\n",
    "\n",
    "print(\"\\nUnique value count for group by ['song', 'sessionId', 'itemInSession']: \", \\\n",
    "      df.groupby(['song', 'sessionId', 'itemInSession']).agg('count').shape[0])"
   ]
  },
  {
   "cell_type": "markdown",
   "metadata": {
    "pycharm": {
     "name": "#%% md\n"
    }
   },
   "source": [
    "# Part II. Complete the Apache Cassandra coding portion of your project. \n",
    "\n",
    "## Now you are ready to work with the CSV file titled <font color=red>event_datafile_new.csv</font>, located within the Workspace directory.  The event_datafile_new.csv contains the following columns: \n",
    "- artist \n",
    "- firstName of user\n",
    "- gender of user\n",
    "- item number in session\n",
    "- last name of user\n",
    "- length of the song\n",
    "- level (paid or free song)\n",
    "- location of the user\n",
    "- sessionId\n",
    "- song title\n",
    "- userId\n",
    "\n",
    "The image below is a screenshot of what the denormalized data should appear like in the <font color=red>**event_datafile_new.csv**</font> after the code above is run:<br>\n",
    "\n",
    "<img src=\"images/image_event_datafile_new.jpg\">"
   ]
  },
  {
   "cell_type": "markdown",
   "metadata": {
    "pycharm": {
     "name": "#%% md\n"
    }
   },
   "source": [
    "## Begin writing your Apache Cassandra code in the cells below"
   ]
  },
  {
   "cell_type": "markdown",
   "metadata": {
    "pycharm": {
     "name": "#%% md\n"
    }
   },
   "source": [
    "#### Table Defitions"
   ]
  },
  {
   "cell_type": "code",
   "execution_count": 35,
   "metadata": {
    "pycharm": {
     "name": "#%%\n"
    }
   },
   "outputs": [],
   "source": [
    "column_definitions = {\n",
    "    \"artist\": {\"line_order\": 0, \"type\": \"text\"},\n",
    "    \"first_name\": {\"line_order\": 1, \"type\": \"text\"},\n",
    "    \"gender\": {\"line_order\": 2, \"type\": \"text\"},\n",
    "    \"item_in_session\": {\"line_order\": 3, \"type\": \"int\"},\n",
    "    \"last_name\": {\"line_order\": 4, \"type\": \"text\"},\n",
    "    \"length\": {\"line_order\": 5, \"type\": \"float\"},\n",
    "    \"level\": {\"line_order\": 6, \"type\": \"text\"},\n",
    "    \"location\": {\"line_order\": 7, \"type\": \"text\"},\n",
    "    \"session_id\": {\"line_order\": 8, \"type\": \"int\"},\n",
    "    \"song\": {\"line_order\": 9, \"type\": \"text\"},\n",
    "    \"user_id\": {\"line_order\": 10, \"type\": \"int\"}\n",
    "}"
   ]
  },
  {
   "cell_type": "markdown",
   "metadata": {
    "pycharm": {
     "name": "#%% md\n"
    }
   },
   "source": [
    "#### Creating a Cluster"
   ]
  },
  {
   "cell_type": "code",
   "execution_count": 36,
   "metadata": {
    "pycharm": {
     "name": "#%%\n"
    }
   },
   "outputs": [],
   "source": [
    "from cassandra.cluster import Cluster\n",
    "cluster = Cluster()\n",
    "session = cluster.connect()"
   ]
  },
  {
   "cell_type": "markdown",
   "metadata": {
    "pycharm": {
     "name": "#%% md\n"
    }
   },
   "source": [
    "#### Create Keyspace"
   ]
  },
  {
   "cell_type": "code",
   "execution_count": 37,
   "metadata": {
    "pycharm": {
     "name": "#%%\n"
    }
   },
   "outputs": [],
   "source": [
    "# Create a Keyspace \n",
    "try:\n",
    "    session.execute(\"\"\"\n",
    "    CREATE KEYSPACE IF NOT EXISTS music_app_project \n",
    "    WITH REPLICATION = \n",
    "    { 'class' : 'SimpleStrategy', 'replication_factor' : 1 }\"\"\"\n",
    ")\n",
    "\n",
    "except Exception as e:\n",
    "    print(e)"
   ]
  },
  {
   "cell_type": "markdown",
   "metadata": {
    "pycharm": {
     "name": "#%% md\n"
    }
   },
   "source": [
    "#### Set Keyspace"
   ]
  },
  {
   "cell_type": "code",
   "execution_count": 38,
   "metadata": {
    "pycharm": {
     "name": "#%%\n"
    }
   },
   "outputs": [],
   "source": [
    "# Set KEYSPACE to the keyspace specified above\n",
    "try:\n",
    "    session.set_keyspace('music_app_project')\n",
    "except Exception as e:\n",
    "    print(e)"
   ]
  },
  {
   "cell_type": "markdown",
   "metadata": {
    "pycharm": {
     "name": "#%% md\n"
    }
   },
   "source": [
    "### Now we need to create tables to run the following queries. Remember, with Apache Cassandra you model the database tables on the queries you want to run."
   ]
  },
  {
   "cell_type": "markdown",
   "metadata": {
    "pycharm": {
     "name": "#%% md\n"
    }
   },
   "source": [
    "## Create queries to ask the following three questions of the data\n",
    "\n",
    "### 1. Give me the artist, song title and song's length in the music app history that was heard during  sessionId = 338, and itemInSession  = 4\n",
    "\n",
    "\n",
    "### 2. Give me only the following: name of artist, song (sorted by itemInSession) and user (first and last name) for userid = 10, sessionid = 182\n",
    "    \n",
    "\n",
    "### 3. Give me every user name (first and last) in my music app history who listened to the song 'All Hands Against His Own'\n",
    "\n",
    "\n"
   ]
  },
  {
   "cell_type": "code",
   "execution_count": 39,
   "metadata": {
    "pycharm": {
     "name": "#%%\n"
    }
   },
   "outputs": [],
   "source": [
    "## We need to prepare a table for the following kind of queries:\n",
    "\n",
    "## Query 1:  Give me the artist, song title and song's length in the music app history that was heard during \\\n",
    "## sessionId = 338, and itemInSession = 4\n",
    "\n",
    "# On this query where clause values can be changed but we want mainly song related data. \n",
    "# Partition key: session_id\n",
    "# Clustering key: item_in_session\n",
    "# Group of both matches all rows as I described above.\n",
    "\n",
    "table_1_definitions = {\n",
    "    \"table_name\": 'songs_log_data',\n",
    "    \"fields\": ['session_id', 'item_in_session', 'artist', 'length', 'song'],\n",
    "    \"partition_keys\": ['session_id'],\n",
    "    \"clustering_keys\": ['item_in_session']\n",
    "}\n",
    "\n",
    "query_1 = f\"select artist, song, length from {table_1_definitions['table_name']} WHERE session_id=338 and item_in_session=4\""
   ]
  },
  {
   "cell_type": "code",
   "execution_count": 40,
   "metadata": {
    "pycharm": {
     "name": "#%%\n"
    }
   },
   "outputs": [],
   "source": [
    "# Drop Table\n",
    "def drop_table(table_name):\n",
    "    query = f\"DROP TABLE {table_name}\"\n",
    "    try:\n",
    "        rows = session.execute(query)\n",
    "    except Exception as e:\n",
    "        print(e)"
   ]
  },
  {
   "cell_type": "code",
   "execution_count": 41,
   "metadata": {
    "pycharm": {
     "name": "#%%\n"
    }
   },
   "outputs": [],
   "source": [
    "# drop_table(table_1_definitions['table_name'])"
   ]
  },
  {
   "cell_type": "code",
   "execution_count": 42,
   "metadata": {
    "pycharm": {
     "name": "#%%\n"
    }
   },
   "outputs": [],
   "source": [
    "def get_create_table_query(table_definition):\n",
    "    # Get Create Table cQL\n",
    "    query_create = f\"CREATE TABLE IF NOT EXISTS {table_definition['table_name']} \"\n",
    "    table_columns = [f\"{field} {column_definitions[field]['type']}\" for field in table_definition['fields']]\n",
    "    query_create = query_create + \\\n",
    "                   f\"({', '.join(table_columns)}, \" + \\\n",
    "                   f\"PRIMARY KEY (({', '.join(table_definition['partition_keys'])}), \" + \\\n",
    "                                 f\"{', '.join(table_definition['clustering_keys'])}))\"\n",
    "    return query_create\n",
    "\n",
    "\n",
    "def create_table(table_definition):\n",
    "    # Create Table\n",
    "    query_create = get_create_table_query(table_definition)\n",
    "    try:\n",
    "        session.execute(query_create)\n",
    "    except Exception as e:\n",
    "        print(e)"
   ]
  },
  {
   "cell_type": "code",
   "execution_count": 43,
   "metadata": {
    "pycharm": {
     "name": "#%%\n"
    }
   },
   "outputs": [],
   "source": [
    "create_table(table_1_definitions)"
   ]
  },
  {
   "cell_type": "code",
   "execution_count": 44,
   "metadata": {
    "scrolled": false,
    "pycharm": {
     "name": "#%%\n"
    }
   },
   "outputs": [],
   "source": [
    "def get_field_value(field, line):\n",
    "    # Get field value by using filed defitions\n",
    "    column_def = column_definitions[field]\n",
    "    if column_def['type'] == 'text':\n",
    "        return line[column_def['line_order']]\n",
    "    elif column_def['type'] == 'int':\n",
    "        return int(line[column_def['line_order']])\n",
    "    elif column_def['type'] == 'float':\n",
    "        return float(line[column_def['line_order']])\n",
    "    \n",
    "    raise NotImplementedError(\"Undefined Field Type\")\n",
    "\n",
    "def insert_into_table(table_definition):\n",
    "    # Insert logs to table\n",
    "    fields = table_definition['fields']\n",
    "    query = f\"INSERT INTO {table_definition['table_name']} ({', '.join(fields)})\" + \\\n",
    "            f\" VALUES ({', '.join(['%s'] * len(fields))})\"\n",
    "\n",
    "    with open(event_datafile, 'r', encoding='utf8') as f:\n",
    "        csvreader = csv.reader(f)\n",
    "        next(csvreader)\n",
    "        for line in csvreader:\n",
    "            session.execute(query, tuple([get_field_value(field, line) for field in fields]))\n"
   ]
  },
  {
   "cell_type": "code",
   "execution_count": 45,
   "metadata": {
    "pycharm": {
     "name": "#%%\n"
    }
   },
   "outputs": [],
   "source": [
    "insert_into_table(table_1_definitions)"
   ]
  },
  {
   "cell_type": "code",
   "execution_count": 46,
   "metadata": {
    "pycharm": {
     "name": "#%%\n"
    }
   },
   "outputs": [],
   "source": [
    "def print_table_row_count(table_name):\n",
    "    # Print Table Row Count\n",
    "    try:\n",
    "        rows = session.execute(f\"select count(*) from {table_name}\")\n",
    "    except Exception as e:\n",
    "        print(e)\n",
    "\n",
    "    for row in rows:\n",
    "        print (f\"Table {table_name} has: {str(row)}\")"
   ]
  },
  {
   "cell_type": "code",
   "execution_count": 47,
   "metadata": {
    "pycharm": {
     "name": "#%%\n"
    }
   },
   "outputs": [
    {
     "name": "stdout",
     "output_type": "stream",
     "text": [
      "Table songs_log_data has: Row(count=6820)\n"
     ]
    }
   ],
   "source": [
    "print_table_row_count(table_1_definitions['table_name'])"
   ]
  },
  {
   "cell_type": "markdown",
   "metadata": {
    "pycharm": {
     "name": "#%% md\n"
    }
   },
   "source": [
    "#### Do a SELECT to verify that the data have been inserted into each table"
   ]
  },
  {
   "cell_type": "code",
   "execution_count": 48,
   "metadata": {
    "scrolled": true,
    "pycharm": {
     "name": "#%%\n"
    }
   },
   "outputs": [],
   "source": [
    "def execute_query(query_to_execute):\n",
    "    try:\n",
    "        rows = session.execute(query_to_execute)\n",
    "    except Exception as e:\n",
    "        print(e)\n",
    "\n",
    "    for row in rows:\n",
    "        print (row)"
   ]
  },
  {
   "cell_type": "code",
   "execution_count": 49,
   "metadata": {
    "pycharm": {
     "name": "#%%\n"
    }
   },
   "outputs": [
    {
     "name": "stdout",
     "output_type": "stream",
     "text": [
      "Row(artist='Faithless', song='Music Matters (Mark Knight Dub)', length=495.30731201171875)\n"
     ]
    }
   ],
   "source": [
    "execute_query(query_1)"
   ]
  },
  {
   "cell_type": "markdown",
   "metadata": {
    "pycharm": {
     "name": "#%% md\n"
    }
   },
   "source": [
    "### COPY AND REPEAT THE ABOVE THREE CELLS FOR EACH OF THE THREE QUESTIONS"
   ]
  },
  {
   "cell_type": "code",
   "execution_count": 50,
   "metadata": {
    "pycharm": {
     "name": "#%%\n"
    }
   },
   "outputs": [],
   "source": [
    "## Query 2: Give me only the following: name of artist, song (sorted by itemInSession) and user (first and last name)\n",
    "## for userid = 10, sessionid = 182\n",
    "\n",
    "# On this query where clause values can be changed but we want mainly songs & users related data. \n",
    "# Partition key: session_id\n",
    "# Composite clustering key is: (user_id, item_in_session, first_name, last_name)\n",
    "#   Since user_id is required on where clause we need to put it in \"clustering columns\"\n",
    "\n",
    "table_2_definitions = {\n",
    "    \"table_name\": 'users_and_songs_log_data',\n",
    "    \"fields\": ['user_id', 'session_id', 'item_in_session', \\\n",
    "               'artist', 'first_name', 'last_name', 'gender', 'length', 'level', 'location', 'song'],\n",
    "    \"partition_keys\": ['user_id', 'session_id'],\n",
    "    \"clustering_keys\": ['item_in_session']\n",
    "}\n",
    "\n",
    "query_2 = f\"select artist, song, first_name, last_name from {table_2_definitions['table_name']} \\\n",
    "              WHERE user_id=10 and session_id=182\"\n",
    "                    "
   ]
  },
  {
   "cell_type": "code",
   "execution_count": 51,
   "metadata": {
    "pycharm": {
     "name": "#%%\n"
    }
   },
   "outputs": [],
   "source": [
    "# drop_table(table_2_definitions['table_name'])"
   ]
  },
  {
   "cell_type": "code",
   "execution_count": 52,
   "metadata": {
    "pycharm": {
     "name": "#%%\n"
    }
   },
   "outputs": [],
   "source": [
    "create_table(table_2_definitions)"
   ]
  },
  {
   "cell_type": "code",
   "execution_count": 53,
   "metadata": {
    "pycharm": {
     "name": "#%%\n"
    }
   },
   "outputs": [],
   "source": [
    "insert_into_table(table_2_definitions)"
   ]
  },
  {
   "cell_type": "code",
   "execution_count": 54,
   "metadata": {
    "pycharm": {
     "name": "#%%\n"
    }
   },
   "outputs": [
    {
     "name": "stdout",
     "output_type": "stream",
     "text": [
      "Table users_and_songs_log_data has: Row(count=6820)\n"
     ]
    }
   ],
   "source": [
    "print_table_row_count(table_2_definitions['table_name'])"
   ]
  },
  {
   "cell_type": "code",
   "execution_count": 55,
   "metadata": {
    "pycharm": {
     "name": "#%%\n"
    }
   },
   "outputs": [
    {
     "name": "stdout",
     "output_type": "stream",
     "text": [
      "Row(artist='Down To The Bone', song=\"Keep On Keepin' On\", first_name='Sylvie', last_name='Cruz')\n",
      "Row(artist='Three Drives', song='Greece 2000', first_name='Sylvie', last_name='Cruz')\n",
      "Row(artist='Sebastien Tellier', song='Kilometer', first_name='Sylvie', last_name='Cruz')\n",
      "Row(artist='Lonnie Gordon', song='Catch You Baby (Steve Pitron & Max Sanna Radio Edit)', first_name='Sylvie', last_name='Cruz')\n"
     ]
    }
   ],
   "source": [
    "execute_query(query_2)"
   ]
  },
  {
   "cell_type": "code",
   "execution_count": 56,
   "metadata": {
    "pycharm": {
     "name": "#%%\n"
    }
   },
   "outputs": [],
   "source": [
    "## Query 3: Give me every user name (first and last) in my music app history \n",
    "## who listened to the song 'All Hands Against His Own'\n",
    "\n",
    "# On this query where clause value can be changed but we want mainly user and listened music related data. \n",
    "# Partition key: song\n",
    "# Composite clustering key is: (first_name, last_name)\n",
    "\n",
    "\n",
    "table_3_definitions = {\n",
    "    \"table_name\": 'users_song_log_data',\n",
    "    \"fields\": ['song', 'session_id', 'item_in_session', \\\n",
    "               'first_name', 'last_name', 'user_id', 'artist', 'gender', 'length', 'level', 'location'],\n",
    "    \"partition_keys\": ['song'],\n",
    "    \"clustering_keys\": ['session_id', 'item_in_session']\n",
    "}\n",
    "\n",
    "query_3 = f\"select first_name, last_name from {table_3_definitions['table_name']} \\\n",
    "              WHERE song='All Hands Against His Own'\"                    "
   ]
  },
  {
   "cell_type": "code",
   "execution_count": 57,
   "metadata": {
    "pycharm": {
     "name": "#%%\n"
    }
   },
   "outputs": [],
   "source": [
    "# drop_table(table_3_definitions['table_name'])"
   ]
  },
  {
   "cell_type": "code",
   "execution_count": 58,
   "metadata": {
    "pycharm": {
     "name": "#%%\n"
    }
   },
   "outputs": [],
   "source": [
    "create_table(table_3_definitions)"
   ]
  },
  {
   "cell_type": "code",
   "execution_count": 59,
   "metadata": {
    "pycharm": {
     "name": "#%%\n"
    }
   },
   "outputs": [],
   "source": [
    "insert_into_table(table_3_definitions)"
   ]
  },
  {
   "cell_type": "code",
   "execution_count": 60,
   "metadata": {
    "pycharm": {
     "name": "#%%\n"
    }
   },
   "outputs": [
    {
     "name": "stdout",
     "output_type": "stream",
     "text": [
      "Table users_song_log_data has: Row(count=6820)\n"
     ]
    }
   ],
   "source": [
    "print_table_row_count(table_3_definitions['table_name'])"
   ]
  },
  {
   "cell_type": "code",
   "execution_count": 61,
   "metadata": {
    "pycharm": {
     "name": "#%%\n"
    }
   },
   "outputs": [
    {
     "name": "stdout",
     "output_type": "stream",
     "text": [
      "Row(first_name='Sara', last_name='Johnson')\n",
      "Row(first_name='Jacqueline', last_name='Lynch')\n",
      "Row(first_name='Tegan', last_name='Levine')\n"
     ]
    }
   ],
   "source": [
    "execute_query(query_3)"
   ]
  },
  {
   "cell_type": "markdown",
   "metadata": {
    "pycharm": {
     "name": "#%% md\n"
    }
   },
   "source": [
    "### Drop the tables before closing out the sessions"
   ]
  },
  {
   "cell_type": "code",
   "execution_count": 254,
   "metadata": {
    "pycharm": {
     "name": "#%%\n"
    }
   },
   "outputs": [],
   "source": [
    "## TO-DO: Drop the table before closing out the sessions"
   ]
  },
  {
   "cell_type": "code",
   "execution_count": 63,
   "metadata": {
    "pycharm": {
     "name": "#%%\n"
    }
   },
   "outputs": [],
   "source": [
    "drop_table(table_1_definitions['table_name'])\n",
    "drop_table(table_2_definitions['table_name'])\n",
    "drop_table(table_3_definitions['table_name'])"
   ]
  },
  {
   "cell_type": "markdown",
   "metadata": {
    "pycharm": {
     "name": "#%% md\n"
    }
   },
   "source": [
    "### Close the session and cluster connection¶"
   ]
  },
  {
   "cell_type": "code",
   "execution_count": 64,
   "metadata": {
    "pycharm": {
     "name": "#%%\n"
    }
   },
   "outputs": [],
   "source": [
    "session.shutdown()\n",
    "cluster.shutdown()"
   ]
  },
  {
   "cell_type": "code",
   "execution_count": null,
   "metadata": {
    "pycharm": {
     "name": "#%%\n"
    }
   },
   "outputs": [],
   "source": []
  },
  {
   "cell_type": "code",
   "execution_count": null,
   "metadata": {
    "pycharm": {
     "name": "#%%\n"
    }
   },
   "outputs": [],
   "source": []
  }
 ],
 "metadata": {
  "kernelspec": {
   "display_name": "Python 3",
   "language": "python",
   "name": "python3"
  },
  "language_info": {
   "codemirror_mode": {
    "name": "ipython",
    "version": 3
   },
   "file_extension": ".py",
   "mimetype": "text/x-python",
   "name": "python",
   "nbconvert_exporter": "python",
   "pygments_lexer": "ipython3",
   "version": "3.6.3"
  }
 },
 "nbformat": 4,
 "nbformat_minor": 2
}