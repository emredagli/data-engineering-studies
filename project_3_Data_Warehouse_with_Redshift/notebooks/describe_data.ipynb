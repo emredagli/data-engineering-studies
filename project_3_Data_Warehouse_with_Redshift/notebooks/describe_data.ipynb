{
 "cells": [
  {
   "cell_type": "markdown",
   "source": [
    "## Describe Project Data"
   ],
   "metadata": {
    "collapsed": false,
    "pycharm": {
     "name": "#%% md\n"
    }
   }
  },
  {
   "cell_type": "markdown",
   "source": [
    "### Imports & Configs"
   ],
   "metadata": {
    "collapsed": false,
    "pycharm": {
     "name": "#%% md\n"
    }
   }
  },
  {
   "cell_type": "code",
   "execution_count": 2,
   "outputs": [],
   "source": [
    "import configparser\n",
    "import boto3\n",
    "import pandas as pd\n",
    "import json"
   ],
   "metadata": {
    "collapsed": false,
    "pycharm": {
     "name": "#%%\n"
    }
   }
  },
  {
   "cell_type": "code",
   "execution_count": 3,
   "outputs": [],
   "source": [
    "config = configparser.ConfigParser()\n",
    "config.read('dwh.cfg')\n",
    "\n",
    "s3_resource = boto3.resource('s3')"
   ],
   "metadata": {
    "collapsed": false,
    "pycharm": {
     "name": "#%%\n"
    }
   }
  },
  {
   "cell_type": "markdown",
   "source": [
    "### Common Functions"
   ],
   "metadata": {
    "collapsed": false,
    "pycharm": {
     "name": "#%% md\n"
    }
   }
  },
  {
   "cell_type": "code",
   "execution_count": 4,
   "outputs": [],
   "source": [
    "def print_bucket_size(bucket, prefix):\n",
    "    total_size = 0\n",
    "    count = 0\n",
    "    for obj in s3_resource.Bucket(bucket).objects.filter(Prefix=prefix):\n",
    "        if obj.key.endswith('.json'):\n",
    "            total_size += obj.size\n",
    "            count += 1\n",
    "    total_size = total_size / 1024 / 1024\n",
    "    print(f\"Bucket 's3://{bucket}/{prefix}' json files:\\n\\tCount: {count}\\n\\tTotal Size: {round(total_size, 1)} MiB\")\n",
    "\n",
    "def get_nth_json_file(bucket, prefix, nth=1):\n",
    "    index = 0\n",
    "    for obj in s3_resource.Bucket(bucket).objects.filter(Prefix=prefix):\n",
    "        if obj.key.endswith('.json'):\n",
    "            index += 1\n",
    "            if index == nth:\n",
    "                return obj.key, obj.get()['Body'].read().decode('utf-8')\n",
    "\n",
    "def describe_nth_json_file(bucket, prefix, nth):\n",
    "    file_key, file_content = get_nth_json_file(bucket, prefix, nth)\n",
    "    df = pd.read_json(file_content, lines=True)\n",
    "\n",
    "    print(f\"First JSON file {bucket}/{file_key}: \\n\")\n",
    "    display(df.head())\n",
    "    display(df.info())"
   ],
   "metadata": {
    "collapsed": false,
    "pycharm": {
     "name": "#%%\n"
    }
   }
  },
  {
   "cell_type": "markdown",
   "source": [
    "### Project Files - Bucket Info & Stats"
   ],
   "metadata": {
    "collapsed": false,
    "pycharm": {
     "name": "#%% md\n"
    }
   }
  },
  {
   "cell_type": "code",
   "execution_count": 12,
   "outputs": [
    {
     "name": "stdout",
     "output_type": "stream",
     "text": [
      "Bucket 's3://udacity-dend/log-data/' json files:\n",
      "\tCount: 30\n",
      "\tTotal Size: 3.6 MiB\n"
     ]
    }
   ],
   "source": [
    "print_bucket_size('udacity-dend', 'log-data/')"
   ],
   "metadata": {
    "collapsed": false,
    "pycharm": {
     "name": "#%%\n"
    }
   }
  },
  {
   "cell_type": "code",
   "execution_count": null,
   "outputs": [],
   "source": [
    "print_bucket_size('udacity-dend', 'song-data/')\n",
    "# the code above took too much time. The recorded last result was:\n",
    "#\n",
    "# Bucket 's3://udacity-dend/song-data/' json files:\n",
    "# \tCount: 385252\n",
    "# \tTotal Size: 98.7 MiB"
   ],
   "metadata": {
    "collapsed": false,
    "pycharm": {
     "name": "#%%\n"
    }
   }
  },
  {
   "cell_type": "markdown",
   "source": [
    "### Project Files - Content & Field Types"
   ],
   "metadata": {
    "collapsed": false,
    "pycharm": {
     "name": "#%% md\n"
    }
   }
  },
  {
   "cell_type": "code",
   "execution_count": 5,
   "outputs": [
    {
     "name": "stdout",
     "output_type": "stream",
     "text": [
      "First JSON file udacity-dend/log-data/2018/11/2018-11-02-events.json: \n",
      "\n"
     ]
    },
    {
     "data": {
      "text/plain": "                      artist       auth firstName gender  itemInSession  \\\n0  N.E.R.D. FEATURING MALICE  Logged In    Jayden      M              0   \n1                       None  Logged In   Stefany      F              0   \n2        Death Cab for Cutie  Logged In   Stefany      F              1   \n3           Tracy Gang Pussy  Logged In   Stefany      F              2   \n4                    Skillet  Logged In     Kevin      M              0   \n\n   lastName     length level                  location method      page  \\\n0       Fox  288.99220  free  New Orleans-Metairie, LA    PUT  NextSong   \n1     White        NaN  free               Lubbock, TX    GET      Home   \n2     White  216.42404  free               Lubbock, TX    PUT  NextSong   \n3     White  221.33506  free               Lubbock, TX    PUT  NextSong   \n4  Arellano  178.02404  free   Harrisburg-Carlisle, PA    PUT  NextSong   \n\n    registration  sessionId                             song  status  \\\n0  1541033612796        184         Am I High (Feat. Malice)     200   \n1  1540708070796         82                             None     200   \n2  1540708070796         82  A Lack Of Color (Album Version)     200   \n3  1540708070796         82                    I Have A Wish     200   \n4  1540006905796        153          Monster (Album Version)     200   \n\n              ts                                          userAgent  userId  \n0  1541121934796  \"Mozilla/5.0 (Windows NT 6.3; WOW64) AppleWebK...     101  \n1  1541122176796  \"Mozilla/5.0 (Macintosh; Intel Mac OS X 10_9_4...      83  \n2  1541122241796  \"Mozilla/5.0 (Macintosh; Intel Mac OS X 10_9_4...      83  \n3  1541122457796  \"Mozilla/5.0 (Macintosh; Intel Mac OS X 10_9_4...      83  \n4  1541126568796  \"Mozilla/5.0 (Macintosh; Intel Mac OS X 10_9_4...      66  ",
      "text/html": "<div>\n<style scoped>\n    .dataframe tbody tr th:only-of-type {\n        vertical-align: middle;\n    }\n\n    .dataframe tbody tr th {\n        vertical-align: top;\n    }\n\n    .dataframe thead th {\n        text-align: right;\n    }\n</style>\n<table border=\"1\" class=\"dataframe\">\n  <thead>\n    <tr style=\"text-align: right;\">\n      <th></th>\n      <th>artist</th>\n      <th>auth</th>\n      <th>firstName</th>\n      <th>gender</th>\n      <th>itemInSession</th>\n      <th>lastName</th>\n      <th>length</th>\n      <th>level</th>\n      <th>location</th>\n      <th>method</th>\n      <th>page</th>\n      <th>registration</th>\n      <th>sessionId</th>\n      <th>song</th>\n      <th>status</th>\n      <th>ts</th>\n      <th>userAgent</th>\n      <th>userId</th>\n    </tr>\n  </thead>\n  <tbody>\n    <tr>\n      <th>0</th>\n      <td>N.E.R.D. FEATURING MALICE</td>\n      <td>Logged In</td>\n      <td>Jayden</td>\n      <td>M</td>\n      <td>0</td>\n      <td>Fox</td>\n      <td>288.99220</td>\n      <td>free</td>\n      <td>New Orleans-Metairie, LA</td>\n      <td>PUT</td>\n      <td>NextSong</td>\n      <td>1541033612796</td>\n      <td>184</td>\n      <td>Am I High (Feat. Malice)</td>\n      <td>200</td>\n      <td>1541121934796</td>\n      <td>\"Mozilla/5.0 (Windows NT 6.3; WOW64) AppleWebK...</td>\n      <td>101</td>\n    </tr>\n    <tr>\n      <th>1</th>\n      <td>None</td>\n      <td>Logged In</td>\n      <td>Stefany</td>\n      <td>F</td>\n      <td>0</td>\n      <td>White</td>\n      <td>NaN</td>\n      <td>free</td>\n      <td>Lubbock, TX</td>\n      <td>GET</td>\n      <td>Home</td>\n      <td>1540708070796</td>\n      <td>82</td>\n      <td>None</td>\n      <td>200</td>\n      <td>1541122176796</td>\n      <td>\"Mozilla/5.0 (Macintosh; Intel Mac OS X 10_9_4...</td>\n      <td>83</td>\n    </tr>\n    <tr>\n      <th>2</th>\n      <td>Death Cab for Cutie</td>\n      <td>Logged In</td>\n      <td>Stefany</td>\n      <td>F</td>\n      <td>1</td>\n      <td>White</td>\n      <td>216.42404</td>\n      <td>free</td>\n      <td>Lubbock, TX</td>\n      <td>PUT</td>\n      <td>NextSong</td>\n      <td>1540708070796</td>\n      <td>82</td>\n      <td>A Lack Of Color (Album Version)</td>\n      <td>200</td>\n      <td>1541122241796</td>\n      <td>\"Mozilla/5.0 (Macintosh; Intel Mac OS X 10_9_4...</td>\n      <td>83</td>\n    </tr>\n    <tr>\n      <th>3</th>\n      <td>Tracy Gang Pussy</td>\n      <td>Logged In</td>\n      <td>Stefany</td>\n      <td>F</td>\n      <td>2</td>\n      <td>White</td>\n      <td>221.33506</td>\n      <td>free</td>\n      <td>Lubbock, TX</td>\n      <td>PUT</td>\n      <td>NextSong</td>\n      <td>1540708070796</td>\n      <td>82</td>\n      <td>I Have A Wish</td>\n      <td>200</td>\n      <td>1541122457796</td>\n      <td>\"Mozilla/5.0 (Macintosh; Intel Mac OS X 10_9_4...</td>\n      <td>83</td>\n    </tr>\n    <tr>\n      <th>4</th>\n      <td>Skillet</td>\n      <td>Logged In</td>\n      <td>Kevin</td>\n      <td>M</td>\n      <td>0</td>\n      <td>Arellano</td>\n      <td>178.02404</td>\n      <td>free</td>\n      <td>Harrisburg-Carlisle, PA</td>\n      <td>PUT</td>\n      <td>NextSong</td>\n      <td>1540006905796</td>\n      <td>153</td>\n      <td>Monster (Album Version)</td>\n      <td>200</td>\n      <td>1541126568796</td>\n      <td>\"Mozilla/5.0 (Macintosh; Intel Mac OS X 10_9_4...</td>\n      <td>66</td>\n    </tr>\n  </tbody>\n</table>\n</div>"
     },
     "metadata": {},
     "output_type": "display_data"
    },
    {
     "name": "stdout",
     "output_type": "stream",
     "text": [
      "<class 'pandas.core.frame.DataFrame'>\n",
      "RangeIndex: 171 entries, 0 to 170\n",
      "Data columns (total 18 columns):\n",
      " #   Column         Non-Null Count  Dtype  \n",
      "---  ------         --------------  -----  \n",
      " 0   artist         155 non-null    object \n",
      " 1   auth           171 non-null    object \n",
      " 2   firstName      171 non-null    object \n",
      " 3   gender         171 non-null    object \n",
      " 4   itemInSession  171 non-null    int64  \n",
      " 5   lastName       171 non-null    object \n",
      " 6   length         155 non-null    float64\n",
      " 7   level          171 non-null    object \n",
      " 8   location       171 non-null    object \n",
      " 9   method         171 non-null    object \n",
      " 10  page           171 non-null    object \n",
      " 11  registration   171 non-null    int64  \n",
      " 12  sessionId      171 non-null    int64  \n",
      " 13  song           155 non-null    object \n",
      " 14  status         171 non-null    int64  \n",
      " 15  ts             171 non-null    int64  \n",
      " 16  userAgent      171 non-null    object \n",
      " 17  userId         171 non-null    int64  \n",
      "dtypes: float64(1), int64(6), object(11)\n",
      "memory usage: 24.2+ KB\n"
     ]
    },
    {
     "data": {
      "text/plain": "None"
     },
     "metadata": {},
     "output_type": "display_data"
    }
   ],
   "source": [
    "describe_nth_json_file('udacity-dend', 'log-data/', 2)"
   ],
   "metadata": {
    "collapsed": false,
    "pycharm": {
     "name": "#%%\n"
    }
   }
  },
  {
   "cell_type": "code",
   "execution_count": 14,
   "outputs": [
    {
     "name": "stdout",
     "output_type": "stream",
     "text": [
      "First JSON file udacity-dend/song-data/A/A/A/TRAAAAV128F421A322.json: \n",
      "\n"
     ]
    },
    {
     "data": {
      "text/plain": "              song_id  num_songs                             title  \\\n0  SOQPWCR12A6D4FB2A3          1  A Poor Recipe For Civic Cohesion   \n\n         artist_name  artist_latitude  year   duration           artist_id  \\\n0  Western Addiction         37.77916  2005  118.07302  AR73AIO1187B9AD57B   \n\n   artist_longitude    artist_location  \n0        -122.42005  San Francisco, CA  ",
      "text/html": "<div>\n<style scoped>\n    .dataframe tbody tr th:only-of-type {\n        vertical-align: middle;\n    }\n\n    .dataframe tbody tr th {\n        vertical-align: top;\n    }\n\n    .dataframe thead th {\n        text-align: right;\n    }\n</style>\n<table border=\"1\" class=\"dataframe\">\n  <thead>\n    <tr style=\"text-align: right;\">\n      <th></th>\n      <th>song_id</th>\n      <th>num_songs</th>\n      <th>title</th>\n      <th>artist_name</th>\n      <th>artist_latitude</th>\n      <th>year</th>\n      <th>duration</th>\n      <th>artist_id</th>\n      <th>artist_longitude</th>\n      <th>artist_location</th>\n    </tr>\n  </thead>\n  <tbody>\n    <tr>\n      <th>0</th>\n      <td>SOQPWCR12A6D4FB2A3</td>\n      <td>1</td>\n      <td>A Poor Recipe For Civic Cohesion</td>\n      <td>Western Addiction</td>\n      <td>37.77916</td>\n      <td>2005</td>\n      <td>118.07302</td>\n      <td>AR73AIO1187B9AD57B</td>\n      <td>-122.42005</td>\n      <td>San Francisco, CA</td>\n    </tr>\n  </tbody>\n</table>\n</div>"
     },
     "metadata": {},
     "output_type": "display_data"
    },
    {
     "name": "stdout",
     "output_type": "stream",
     "text": [
      "<class 'pandas.core.frame.DataFrame'>\n",
      "RangeIndex: 1 entries, 0 to 0\n",
      "Data columns (total 10 columns):\n",
      " #   Column            Non-Null Count  Dtype  \n",
      "---  ------            --------------  -----  \n",
      " 0   song_id           1 non-null      object \n",
      " 1   num_songs         1 non-null      int64  \n",
      " 2   title             1 non-null      object \n",
      " 3   artist_name       1 non-null      object \n",
      " 4   artist_latitude   1 non-null      float64\n",
      " 5   year              1 non-null      int64  \n",
      " 6   duration          1 non-null      float64\n",
      " 7   artist_id         1 non-null      object \n",
      " 8   artist_longitude  1 non-null      float64\n",
      " 9   artist_location   1 non-null      object \n",
      "dtypes: float64(3), int64(2), object(5)\n",
      "memory usage: 208.0+ bytes\n"
     ]
    },
    {
     "data": {
      "text/plain": "None"
     },
     "metadata": {},
     "output_type": "display_data"
    }
   ],
   "source": [
    "describe_nth_json_file('udacity-dend', 'song-data/', 2)"
   ],
   "metadata": {
    "collapsed": false,
    "pycharm": {
     "name": "#%%\n"
    }
   }
  },
  {
   "cell_type": "code",
   "execution_count": 6,
   "outputs": [
    {
     "data": {
      "text/plain": "{'jsonpaths': [\"$['artist']\",\n  \"$['auth']\",\n  \"$['firstName']\",\n  \"$['gender']\",\n  \"$['itemInSession']\",\n  \"$['lastName']\",\n  \"$['length']\",\n  \"$['level']\",\n  \"$['location']\",\n  \"$['method']\",\n  \"$['page']\",\n  \"$['registration']\",\n  \"$['sessionId']\",\n  \"$['song']\",\n  \"$['status']\",\n  \"$['ts']\",\n  \"$['userAgent']\",\n  \"$['userId']\"]}"
     },
     "execution_count": 6,
     "metadata": {},
     "output_type": "execute_result"
    }
   ],
   "source": [
    "# Content of: s3://udacity-dend/log_json_path.json\n",
    "obj = s3_resource.Object('udacity-dend', 'log_json_path.json')\n",
    "json.loads(obj.get()['Body'].read().decode('utf-8'))"
   ],
   "metadata": {
    "collapsed": false,
    "pycharm": {
     "name": "#%%\n"
    }
   }
  },
  {
   "cell_type": "markdown",
   "source": [
    "\n"
   ],
   "metadata": {
    "collapsed": false,
    "pycharm": {
     "name": "#%% md\n"
    }
   }
  },
  {
   "cell_type": "markdown",
   "source": [],
   "metadata": {
    "collapsed": false,
    "pycharm": {
     "name": "#%% md\n"
    }
   }
  },
  {
   "cell_type": "code",
   "execution_count": null,
   "outputs": [],
   "source": [],
   "metadata": {
    "collapsed": false,
    "pycharm": {
     "name": "#%%\n"
    }
   }
  }
 ],
 "metadata": {
  "kernelspec": {
   "name": "python3",
   "language": "python",
   "display_name": "Python 3 (ipykernel)"
  },
  "language_info": {
   "codemirror_mode": {
    "name": "ipython",
    "version": 2
   },
   "file_extension": ".py",
   "mimetype": "text/x-python",
   "name": "python",
   "nbconvert_exporter": "python",
   "pygments_lexer": "ipython2",
   "version": "2.7.6"
  }
 },
 "nbformat": 4,
 "nbformat_minor": 0
}