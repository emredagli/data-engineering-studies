{
 "cells": [
  {
   "cell_type": "markdown",
   "source": [
    "# Sample Analytical Queries"
   ],
   "metadata": {
    "collapsed": false,
    "pycharm": {
     "name": "#%% md\n"
    }
   }
  },
  {
   "cell_type": "code",
   "execution_count": 15,
   "outputs": [],
   "source": [
    "from configparser import ConfigParser\n",
    "from sqlalchemy import create_engine\n",
    "import pandas as pd\n",
    "import seaborn as sns\n",
    "import matplotlib.pyplot as plt\n",
    "\n",
    "config = ConfigParser()\n",
    "config.read('./../dwh.cfg')\n",
    "\n",
    "HOST = config.get('CLUSTER', 'HOST')\n",
    "DB_NAME = config.get('CLUSTER', 'DB_NAME')\n",
    "DB_USER = config.get('CLUSTER', 'DB_USER')\n",
    "DB_PASSWORD = config.get('CLUSTER', 'DB_PASSWORD')\n",
    "DB_PORT = config.get('CLUSTER', 'DB_PORT')\n",
    "\n",
    "conn_string = f\"postgresql://{DB_USER}:{DB_PASSWORD}@{HOST}:{DB_PORT}/{DB_NAME}\"\n",
    "conn = create_engine(conn_string, client_encoding=\"UTF-8\")"
   ],
   "metadata": {
    "collapsed": false,
    "pycharm": {
     "name": "#%%\n"
    }
   }
  },
  {
   "cell_type": "markdown",
   "source": [
    "## 1. Which songs are mostly listened by paid customers?"
   ],
   "metadata": {
    "collapsed": false,
    "pycharm": {
     "name": "#%% md\n"
    }
   }
  },
  {
   "cell_type": "code",
   "execution_count": 18,
   "outputs": [
    {
     "data": {
      "text/plain": "Empty DataFrame\nColumns: []\nIndex: [(Nothin' On You [feat. Bruno Mars] (Album Version), B.o.B, 32), (You're The One, Dwight Yoakam, 30), (Revelry, Kings Of Leon, 25), (Somebody To Love, Justin Bieber / Usher, 22), (Somebody To Love, Justin Bieber, 22), (Somebody To Love, Justin Bieber / Jessica Jarrell, 22), (Yellow, Coldplay, 20), (Sehr kosmisch, Katy Perry, 17), (Sehr kosmisch, Harmonia, 17), (Horn Concerto No. 4 in E flat K495: II. Romance (Andante cantabile), Barry Tuckwell/Academy of St Martin-in-the-Fields/Sir Neville Marriner, 17), (Stronger, Kanye West, 16), (Stronger, Kanye West / Consequence / Cam'Ron, 16), (Canada, Five Iron Frenzy, 16), (Stronger, Kanye West / GLC / Consequence, 16), (Stronger, Kanye West / Nas / Really Doe, 16), (Secrets, OneRepublic, 16), (Stronger, Kanye West / T-Pain, 16), (Bubble Toes, Jack Johnson, 14), (Bubble Toes, Jack Johnson / Paula Fuga, 14), (Dog Days Are Over (Radio Edit), Florence + The Machine, 13)]",
      "text/html": "<div>\n<style scoped>\n    .dataframe tbody tr th:only-of-type {\n        vertical-align: middle;\n    }\n\n    .dataframe tbody tr th {\n        vertical-align: top;\n    }\n\n    .dataframe thead th {\n        text-align: right;\n    }\n</style>\n<table border=\"1\" class=\"dataframe\">\n  <thead>\n    <tr style=\"text-align: right;\">\n      <th></th>\n      <th></th>\n      <th></th>\n    </tr>\n    <tr>\n      <th>title</th>\n      <th>name</th>\n      <th>count</th>\n    </tr>\n  </thead>\n  <tbody>\n    <tr>\n      <th>Nothin' On You [feat. Bruno Mars] (Album Version)</th>\n      <th>B.o.B</th>\n      <th>32</th>\n    </tr>\n    <tr>\n      <th>You're The One</th>\n      <th>Dwight Yoakam</th>\n      <th>30</th>\n    </tr>\n    <tr>\n      <th>Revelry</th>\n      <th>Kings Of Leon</th>\n      <th>25</th>\n    </tr>\n    <tr>\n      <th rowspan=\"3\" valign=\"top\">Somebody To Love</th>\n      <th>Justin Bieber / Usher</th>\n      <th>22</th>\n    </tr>\n    <tr>\n      <th>Justin Bieber</th>\n      <th>22</th>\n    </tr>\n    <tr>\n      <th>Justin Bieber / Jessica Jarrell</th>\n      <th>22</th>\n    </tr>\n    <tr>\n      <th>Yellow</th>\n      <th>Coldplay</th>\n      <th>20</th>\n    </tr>\n    <tr>\n      <th rowspan=\"2\" valign=\"top\">Sehr kosmisch</th>\n      <th>Katy Perry</th>\n      <th>17</th>\n    </tr>\n    <tr>\n      <th>Harmonia</th>\n      <th>17</th>\n    </tr>\n    <tr>\n      <th>Horn Concerto No. 4 in E flat K495: II. Romance (Andante cantabile)</th>\n      <th>Barry Tuckwell/Academy of St Martin-in-the-Fields/Sir Neville Marriner</th>\n      <th>17</th>\n    </tr>\n    <tr>\n      <th rowspan=\"2\" valign=\"top\">Stronger</th>\n      <th>Kanye West</th>\n      <th>16</th>\n    </tr>\n    <tr>\n      <th>Kanye West / Consequence / Cam'Ron</th>\n      <th>16</th>\n    </tr>\n    <tr>\n      <th>Canada</th>\n      <th>Five Iron Frenzy</th>\n      <th>16</th>\n    </tr>\n    <tr>\n      <th rowspan=\"2\" valign=\"top\">Stronger</th>\n      <th>Kanye West / GLC / Consequence</th>\n      <th>16</th>\n    </tr>\n    <tr>\n      <th>Kanye West / Nas / Really Doe</th>\n      <th>16</th>\n    </tr>\n    <tr>\n      <th>Secrets</th>\n      <th>OneRepublic</th>\n      <th>16</th>\n    </tr>\n    <tr>\n      <th>Stronger</th>\n      <th>Kanye West / T-Pain</th>\n      <th>16</th>\n    </tr>\n    <tr>\n      <th rowspan=\"2\" valign=\"top\">Bubble Toes</th>\n      <th>Jack Johnson</th>\n      <th>14</th>\n    </tr>\n    <tr>\n      <th>Jack Johnson / Paula Fuga</th>\n      <th>14</th>\n    </tr>\n    <tr>\n      <th>Dog Days Are Over (Radio Edit)</th>\n      <th>Florence + The Machine</th>\n      <th>13</th>\n    </tr>\n  </tbody>\n</table>\n</div>"
     },
     "execution_count": 18,
     "metadata": {},
     "output_type": "execute_result"
    }
   ],
   "source": [
    "pd.read_sql(f\"\"\"\n",
    "select s.title, ar.name, COUNT(*) as count from songplays sp\n",
    "  left join songs s ON sp.song_id = s.song_id\n",
    "  left join users u on sp.user_id = u.user_id\n",
    "  left join artists ar on sp.artist_id = ar.artist_id\n",
    "  where u.level = 'paid'\n",
    "  group by s.title, ar.name\n",
    "  order by count desc\n",
    "  limit 20;\n",
    "\"\"\", con = conn, index_col=['title', 'name', 'count'])"
   ],
   "metadata": {
    "collapsed": false,
    "pycharm": {
     "name": "#%%\n"
    }
   }
  },
  {
   "cell_type": "markdown",
   "source": [
    "## 2. How often do customers listen to music on days of the week?"
   ],
   "metadata": {
    "collapsed": false,
    "pycharm": {
     "name": "#%% md\n"
    }
   }
  },
  {
   "cell_type": "code",
   "execution_count": 19,
   "outputs": [
    {
     "data": {
      "text/plain": "Empty DataFrame\nColumns: []\nIndex: [(0, 388), (1, 973), (2, 1036), (3, 1319), (4, 1020), (5, 1261), (6, 609)]",
      "text/html": "<div>\n<style scoped>\n    .dataframe tbody tr th:only-of-type {\n        vertical-align: middle;\n    }\n\n    .dataframe tbody tr th {\n        vertical-align: top;\n    }\n\n    .dataframe thead th {\n        text-align: right;\n    }\n</style>\n<table border=\"1\" class=\"dataframe\">\n  <thead>\n    <tr style=\"text-align: right;\">\n      <th></th>\n      <th></th>\n    </tr>\n    <tr>\n      <th>weekday</th>\n      <th>count</th>\n    </tr>\n  </thead>\n  <tbody>\n    <tr>\n      <th>0</th>\n      <th>388</th>\n    </tr>\n    <tr>\n      <th>1</th>\n      <th>973</th>\n    </tr>\n    <tr>\n      <th>2</th>\n      <th>1036</th>\n    </tr>\n    <tr>\n      <th>3</th>\n      <th>1319</th>\n    </tr>\n    <tr>\n      <th>4</th>\n      <th>1020</th>\n    </tr>\n    <tr>\n      <th>5</th>\n      <th>1261</th>\n    </tr>\n    <tr>\n      <th>6</th>\n      <th>609</th>\n    </tr>\n  </tbody>\n</table>\n</div>"
     },
     "execution_count": 19,
     "metadata": {},
     "output_type": "execute_result"
    }
   ],
   "source": [
    "pd.read_sql(f\"\"\"\n",
    "select t.weekday, COUNT(*) as count from songplays sp\n",
    "  left join \"time\" t on t.start_time = sp.start_time\n",
    "  group by t.weekday\n",
    "  order by t.weekday;\n",
    "\"\"\", con = conn, index_col=['weekday', 'count'])"
   ],
   "metadata": {
    "collapsed": false,
    "pycharm": {
     "name": "#%%\n"
    }
   }
  },
  {
   "cell_type": "markdown",
   "source": [
    "## 3. How Frequently Paid and Unpaid Users Use The App"
   ],
   "metadata": {
    "collapsed": false,
    "pycharm": {
     "name": "#%% md\n"
    }
   }
  },
  {
   "cell_type": "code",
   "execution_count": 27,
   "outputs": [],
   "source": [
    "df_song_play_daily_counts = pd.read_sql(f\"\"\"\n",
    "select sp.level, t.year, t.month, t.day, COUNT(*) as count from songplays sp\n",
    "  inner join time t on t.start_time = sp.start_time\n",
    "  group by sp.level, t.year, t.month, t.day\n",
    "  order by t.year, t.month, t.day;\n",
    "\"\"\", con = conn)"
   ],
   "metadata": {
    "collapsed": false,
    "pycharm": {
     "name": "#%%\n"
    }
   }
  },
  {
   "cell_type": "code",
   "execution_count": 48,
   "outputs": [
    {
     "data": {
      "text/plain": "<Figure size 864x432 with 1 Axes>",
      "image/png": "[encoded data removed]"
     },
     "metadata": {
      "needs_background": "light"
     },
     "output_type": "display_data"
    }
   ],
   "source": [
    "from datetime import date\n",
    "\n",
    "df_song_play_daily_counts['date'] = df_song_play_daily_counts.apply(\n",
    "    lambda row: date(row[\"year\"], row[\"month\"], row[\"day\"]), axis=1);\n",
    "\n",
    "fig, ax = plt.subplots(figsize=(12, 6));\n",
    "sns.barplot(data=df_song_play_daily_counts, x=\"date\", y=\"count\", hue=\"level\", estimator=sum, ci=None, ax=ax);\n",
    "plt.xticks(rotation = 45);"
   ],
   "metadata": {
    "collapsed": false,
    "pycharm": {
     "name": "#%%\n"
    }
   }
  }
 ],
 "metadata": {
  "kernelspec": {
   "display_name": "Python 3",
   "language": "python",
   "name": "python3"
  },
  "language_info": {
   "codemirror_mode": {
    "name": "ipython",
    "version": 2
   },
   "file_extension": ".py",
   "mimetype": "text/x-python",
   "name": "python",
   "nbconvert_exporter": "python",
   "pygments_lexer": "ipython2",
   "version": "2.7.6"
  }
 },
 "nbformat": 4,
 "nbformat_minor": 0
}