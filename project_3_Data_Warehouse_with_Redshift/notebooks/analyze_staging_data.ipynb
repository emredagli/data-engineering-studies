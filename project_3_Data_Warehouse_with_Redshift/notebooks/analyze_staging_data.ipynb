{
 "cells": [
  {
   "cell_type": "markdown",
   "source": [
    "# Staging Data\n",
    "\n",
    "These are the staging tables:\n",
    "* staging_songs\n",
    "* staging_events\n",
    "\n",
    "After ETL job we can analyze the data."
   ],
   "metadata": {
    "collapsed": false,
    "pycharm": {
     "name": "#%% md\n"
    }
   }
  },
  {
   "cell_type": "code",
   "execution_count": 35,
   "outputs": [],
   "source": [
    "from configparser import ConfigParser\n",
    "from sqlalchemy import create_engine\n",
    "import pandas as pd\n",
    "\n",
    "config = ConfigParser()\n",
    "config.read('./../dwh.cfg')\n",
    "\n",
    "HOST = config.get('CLUSTER', 'HOST')\n",
    "DB_NAME = config.get('CLUSTER', 'DB_NAME')\n",
    "DB_USER = config.get('CLUSTER', 'DB_USER')\n",
    "DB_PASSWORD = config.get('CLUSTER', 'DB_PASSWORD')\n",
    "DB_PORT = config.get('CLUSTER', 'DB_PORT')\n",
    "\n",
    "conn_string = f\"postgresql://{DB_USER}:{DB_PASSWORD}@{HOST}:{DB_PORT}/{DB_NAME}\"\n",
    "conn = create_engine(conn_string, client_encoding=\"UTF-8\")"
   ],
   "metadata": {
    "collapsed": false,
    "pycharm": {
     "name": "#%%\n"
    }
   }
  },
  {
   "cell_type": "markdown",
   "source": [
    "## 1. Staging Tables Stats"
   ],
   "metadata": {
    "collapsed": false,
    "pycharm": {
     "name": "#%% md\n"
    }
   }
  },
  {
   "cell_type": "code",
   "execution_count": 36,
   "outputs": [
    {
     "data": {
      "text/plain": "       table_name   count\n0   staging_songs  385252\n1  staging_events    8056",
      "text/html": "<div>\n<style scoped>\n    .dataframe tbody tr th:only-of-type {\n        vertical-align: middle;\n    }\n\n    .dataframe tbody tr th {\n        vertical-align: top;\n    }\n\n    .dataframe thead th {\n        text-align: right;\n    }\n</style>\n<table border=\"1\" class=\"dataframe\">\n  <thead>\n    <tr style=\"text-align: right;\">\n      <th></th>\n      <th>table_name</th>\n      <th>count</th>\n    </tr>\n  </thead>\n  <tbody>\n    <tr>\n      <th>0</th>\n      <td>staging_songs</td>\n      <td>385252</td>\n    </tr>\n    <tr>\n      <th>1</th>\n      <td>staging_events</td>\n      <td>8056</td>\n    </tr>\n  </tbody>\n</table>\n</div>"
     },
     "execution_count": 36,
     "metadata": {},
     "output_type": "execute_result"
    }
   ],
   "source": [
    "pd.read_sql(f\"\"\"\n",
    "SELECT 'staging_songs' as table_name, count(*) as count from staging_songs\n",
    "UNION\n",
    "SELECT 'staging_events' as table_name, count(*) as count from staging_events;\n",
    "\"\"\", con = conn)"
   ],
   "metadata": {
    "collapsed": false,
    "pycharm": {
     "name": "#%%\n"
    }
   }
  },
  {
   "cell_type": "markdown",
   "source": [
    "## 2. Duplicate Record Check\n",
    "\n",
    "We have the following matching criteria between these 2 tables:\n",
    "\n",
    "* staging_events.artist   <-> staging_songs.artist_name\n",
    "* staging_events.song     <-> staging_songs.title\n",
    "* staging_events.length   <-> staging_songs.duration"
   ],
   "metadata": {
    "collapsed": false,
    "pycharm": {
     "name": "#%% md\n"
    }
   }
  },
  {
   "cell_type": "code",
   "execution_count": 37,
   "outputs": [
    {
     "name": "stdout",
     "output_type": "stream",
     "text": [
      "Song playing counts in staging_events:\n"
     ]
    },
    {
     "data": {
      "text/plain": "                                              artist  \\\n0                                      Dwight Yoakam   \n1                                           BjÃÂ¶rk   \n2                                      Kings Of Leon   \n3                                           Harmonia   \n4  Barry Tuckwell/Academy of St Martin-in-the-Fie...   \n\n                                                song     length  total  \n0                                     You're The One  239.30730     37  \n1                                               Undo  348.57751     28  \n2                                            Revelry  201.79546     27  \n3                                      Sehr kosmisch  655.77751     21  \n4  Horn Concerto No. 4 in E flat K495: II. Romanc...  277.15873     19  ",
      "text/html": "<div>\n<style scoped>\n    .dataframe tbody tr th:only-of-type {\n        vertical-align: middle;\n    }\n\n    .dataframe tbody tr th {\n        vertical-align: top;\n    }\n\n    .dataframe thead th {\n        text-align: right;\n    }\n</style>\n<table border=\"1\" class=\"dataframe\">\n  <thead>\n    <tr style=\"text-align: right;\">\n      <th></th>\n      <th>artist</th>\n      <th>song</th>\n      <th>length</th>\n      <th>total</th>\n    </tr>\n  </thead>\n  <tbody>\n    <tr>\n      <th>0</th>\n      <td>Dwight Yoakam</td>\n      <td>You're The One</td>\n      <td>239.30730</td>\n      <td>37</td>\n    </tr>\n    <tr>\n      <th>1</th>\n      <td>BjÃÂ¶rk</td>\n      <td>Undo</td>\n      <td>348.57751</td>\n      <td>28</td>\n    </tr>\n    <tr>\n      <th>2</th>\n      <td>Kings Of Leon</td>\n      <td>Revelry</td>\n      <td>201.79546</td>\n      <td>27</td>\n    </tr>\n    <tr>\n      <th>3</th>\n      <td>Harmonia</td>\n      <td>Sehr kosmisch</td>\n      <td>655.77751</td>\n      <td>21</td>\n    </tr>\n    <tr>\n      <th>4</th>\n      <td>Barry Tuckwell/Academy of St Martin-in-the-Fie...</td>\n      <td>Horn Concerto No. 4 in E flat K495: II. Romanc...</td>\n      <td>277.15873</td>\n      <td>19</td>\n    </tr>\n  </tbody>\n</table>\n</div>"
     },
     "execution_count": 37,
     "metadata": {},
     "output_type": "execute_result"
    }
   ],
   "source": [
    "print(\"Song playing counts in staging_events:\")\n",
    "pd.read_sql(f\"\"\"\n",
    "SELECT artist, song, length, COUNT(*) as total FROM staging_events\n",
    "WHERE page = 'NextSong'\n",
    "GROUP BY artist, song, length\n",
    "ORDER BY total DESC\n",
    "LIMIT 5\n",
    "\"\"\", con = conn)"
   ],
   "metadata": {
    "collapsed": false,
    "pycharm": {
     "name": "#%%\n"
    }
   }
  },
  {
   "cell_type": "code",
   "execution_count": 38,
   "outputs": [
    {
     "name": "stdout",
     "output_type": "stream",
     "text": [
      "Song counts with the same artist_name, title, duration values in staging_songs:\n"
     ]
    },
    {
     "data": {
      "text/plain": "                artist_name                        title   duration  total\n0              Foo Fighters  The Deepest Blues Are Black  238.34077      3\n1  The All-American Rejects                   Real World  235.04934      3\n2                 Aerosmith                         Pink  235.36281      3\n3             Kings Of Leon              Taper Jean Girl  185.28608      3\n4              Foo Fighters                         Hell  117.00200      3",
      "text/html": "<div>\n<style scoped>\n    .dataframe tbody tr th:only-of-type {\n        vertical-align: middle;\n    }\n\n    .dataframe tbody tr th {\n        vertical-align: top;\n    }\n\n    .dataframe thead th {\n        text-align: right;\n    }\n</style>\n<table border=\"1\" class=\"dataframe\">\n  <thead>\n    <tr style=\"text-align: right;\">\n      <th></th>\n      <th>artist_name</th>\n      <th>title</th>\n      <th>duration</th>\n      <th>total</th>\n    </tr>\n  </thead>\n  <tbody>\n    <tr>\n      <th>0</th>\n      <td>Foo Fighters</td>\n      <td>The Deepest Blues Are Black</td>\n      <td>238.34077</td>\n      <td>3</td>\n    </tr>\n    <tr>\n      <th>1</th>\n      <td>The All-American Rejects</td>\n      <td>Real World</td>\n      <td>235.04934</td>\n      <td>3</td>\n    </tr>\n    <tr>\n      <th>2</th>\n      <td>Aerosmith</td>\n      <td>Pink</td>\n      <td>235.36281</td>\n      <td>3</td>\n    </tr>\n    <tr>\n      <th>3</th>\n      <td>Kings Of Leon</td>\n      <td>Taper Jean Girl</td>\n      <td>185.28608</td>\n      <td>3</td>\n    </tr>\n    <tr>\n      <th>4</th>\n      <td>Foo Fighters</td>\n      <td>Hell</td>\n      <td>117.00200</td>\n      <td>3</td>\n    </tr>\n  </tbody>\n</table>\n</div>"
     },
     "execution_count": 38,
     "metadata": {},
     "output_type": "execute_result"
    }
   ],
   "source": [
    "print(\"Song counts with the same artist_name, title, duration values in staging_songs:\")\n",
    "pd.read_sql(f\"\"\"\n",
    "SELECT artist_name, title, duration, COUNT(*) as total FROM staging_songs\n",
    "GROUP BY artist_name, title, duration\n",
    "ORDER BY total DESC\n",
    "LIMIT 5\n",
    "\"\"\", con = conn).head(5)"
   ],
   "metadata": {
    "collapsed": false,
    "pycharm": {
     "name": "#%%\n"
    }
   }
  },
  {
   "cell_type": "markdown",
   "source": [
    "It seems, we may have duplicate song data on the match criteria between these 2 staging tables.\n",
    "One approach is, selecting the first item in staging_songs table that matches on the criteria.\n",
    "Before applying the decision, lets check the other fields on duplicate staging song table."
   ],
   "metadata": {
    "collapsed": false,
    "pycharm": {
     "name": "#%% md\n"
    }
   }
  },
  {
   "cell_type": "code",
   "execution_count": 39,
   "outputs": [
    {
     "data": {
      "text/plain": "              song_id  num_songs                        title   artist_name  \\\n0  SOVSGJB12A8C13F772          1  The Deepest Blues Are Black  Foo Fighters   \n1  SOVSGJB12A8C13F772          1  The Deepest Blues Are Black  Foo Fighters   \n2  SOVSGJB12A8C13F772          1  The Deepest Blues Are Black  Foo Fighters   \n\n  artist_latitude  year   duration           artist_id artist_longitude  \\\n0            None  2005  238.34077  AR6XPWV1187B9ADAEB             None   \n1            None  2005  238.34077  AR6XPWV1187B9ADAEB             None   \n2            None  2005  238.34077  AR6XPWV1187B9ADAEB             None   \n\n  artist_location  \n0     Seattle, WA  \n1     Seattle, WA  \n2     Seattle, WA  ",
      "text/html": "<div>\n<style scoped>\n    .dataframe tbody tr th:only-of-type {\n        vertical-align: middle;\n    }\n\n    .dataframe tbody tr th {\n        vertical-align: top;\n    }\n\n    .dataframe thead th {\n        text-align: right;\n    }\n</style>\n<table border=\"1\" class=\"dataframe\">\n  <thead>\n    <tr style=\"text-align: right;\">\n      <th></th>\n      <th>song_id</th>\n      <th>num_songs</th>\n      <th>title</th>\n      <th>artist_name</th>\n      <th>artist_latitude</th>\n      <th>year</th>\n      <th>duration</th>\n      <th>artist_id</th>\n      <th>artist_longitude</th>\n      <th>artist_location</th>\n    </tr>\n  </thead>\n  <tbody>\n    <tr>\n      <th>0</th>\n      <td>SOVSGJB12A8C13F772</td>\n      <td>1</td>\n      <td>The Deepest Blues Are Black</td>\n      <td>Foo Fighters</td>\n      <td>None</td>\n      <td>2005</td>\n      <td>238.34077</td>\n      <td>AR6XPWV1187B9ADAEB</td>\n      <td>None</td>\n      <td>Seattle, WA</td>\n    </tr>\n    <tr>\n      <th>1</th>\n      <td>SOVSGJB12A8C13F772</td>\n      <td>1</td>\n      <td>The Deepest Blues Are Black</td>\n      <td>Foo Fighters</td>\n      <td>None</td>\n      <td>2005</td>\n      <td>238.34077</td>\n      <td>AR6XPWV1187B9ADAEB</td>\n      <td>None</td>\n      <td>Seattle, WA</td>\n    </tr>\n    <tr>\n      <th>2</th>\n      <td>SOVSGJB12A8C13F772</td>\n      <td>1</td>\n      <td>The Deepest Blues Are Black</td>\n      <td>Foo Fighters</td>\n      <td>None</td>\n      <td>2005</td>\n      <td>238.34077</td>\n      <td>AR6XPWV1187B9ADAEB</td>\n      <td>None</td>\n      <td>Seattle, WA</td>\n    </tr>\n  </tbody>\n</table>\n</div>"
     },
     "execution_count": 39,
     "metadata": {},
     "output_type": "execute_result"
    }
   ],
   "source": [
    "pd.read_sql(f\"\"\"\n",
    "SELECT * FROM staging_songs\n",
    "WHERE artist_name = 'Foo Fighters' and title = 'The Deepest Blues Are Black' and duration = 238.34077\n",
    "\"\"\", con = conn).head(10)"
   ],
   "metadata": {
    "collapsed": false,
    "pycharm": {
     "name": "#%%\n"
    }
   }
  },
  {
   "cell_type": "markdown",
   "source": [
    "It seems that results are the same. And lastly lets make a query with song_id='SOVSGJB12A8C13F772' to make sure we have no other songs with the same id."
   ],
   "metadata": {
    "collapsed": false,
    "pycharm": {
     "name": "#%% md\n"
    }
   }
  },
  {
   "cell_type": "code",
   "execution_count": 40,
   "outputs": [
    {
     "data": {
      "text/plain": "              song_id  num_songs                        title   artist_name  \\\n0  SOVSGJB12A8C13F772          1  The Deepest Blues Are Black  Foo Fighters   \n1  SOVSGJB12A8C13F772          1  The Deepest Blues Are Black  Foo Fighters   \n2  SOVSGJB12A8C13F772          1  The Deepest Blues Are Black  Foo Fighters   \n\n  artist_latitude  year   duration           artist_id artist_longitude  \\\n0            None  2005  238.34077  AR6XPWV1187B9ADAEB             None   \n1            None  2005  238.34077  AR6XPWV1187B9ADAEB             None   \n2            None  2005  238.34077  AR6XPWV1187B9ADAEB             None   \n\n  artist_location  \n0     Seattle, WA  \n1     Seattle, WA  \n2     Seattle, WA  ",
      "text/html": "<div>\n<style scoped>\n    .dataframe tbody tr th:only-of-type {\n        vertical-align: middle;\n    }\n\n    .dataframe tbody tr th {\n        vertical-align: top;\n    }\n\n    .dataframe thead th {\n        text-align: right;\n    }\n</style>\n<table border=\"1\" class=\"dataframe\">\n  <thead>\n    <tr style=\"text-align: right;\">\n      <th></th>\n      <th>song_id</th>\n      <th>num_songs</th>\n      <th>title</th>\n      <th>artist_name</th>\n      <th>artist_latitude</th>\n      <th>year</th>\n      <th>duration</th>\n      <th>artist_id</th>\n      <th>artist_longitude</th>\n      <th>artist_location</th>\n    </tr>\n  </thead>\n  <tbody>\n    <tr>\n      <th>0</th>\n      <td>SOVSGJB12A8C13F772</td>\n      <td>1</td>\n      <td>The Deepest Blues Are Black</td>\n      <td>Foo Fighters</td>\n      <td>None</td>\n      <td>2005</td>\n      <td>238.34077</td>\n      <td>AR6XPWV1187B9ADAEB</td>\n      <td>None</td>\n      <td>Seattle, WA</td>\n    </tr>\n    <tr>\n      <th>1</th>\n      <td>SOVSGJB12A8C13F772</td>\n      <td>1</td>\n      <td>The Deepest Blues Are Black</td>\n      <td>Foo Fighters</td>\n      <td>None</td>\n      <td>2005</td>\n      <td>238.34077</td>\n      <td>AR6XPWV1187B9ADAEB</td>\n      <td>None</td>\n      <td>Seattle, WA</td>\n    </tr>\n    <tr>\n      <th>2</th>\n      <td>SOVSGJB12A8C13F772</td>\n      <td>1</td>\n      <td>The Deepest Blues Are Black</td>\n      <td>Foo Fighters</td>\n      <td>None</td>\n      <td>2005</td>\n      <td>238.34077</td>\n      <td>AR6XPWV1187B9ADAEB</td>\n      <td>None</td>\n      <td>Seattle, WA</td>\n    </tr>\n  </tbody>\n</table>\n</div>"
     },
     "execution_count": 40,
     "metadata": {},
     "output_type": "execute_result"
    }
   ],
   "source": [
    "pd.read_sql(f\"\"\"\n",
    "SELECT * FROM staging_songs\n",
    "WHERE song_id='SOVSGJB12A8C13F772'\n",
    "\"\"\", con = conn).head(10)"
   ],
   "metadata": {
    "collapsed": false,
    "pycharm": {
     "name": "#%%\n"
    }
   }
  }
 ],
 "metadata": {
  "kernelspec": {
   "display_name": "Python 3",
   "language": "python",
   "name": "python3"
  },
  "language_info": {
   "codemirror_mode": {
    "name": "ipython",
    "version": 2
   },
   "file_extension": ".py",
   "mimetype": "text/x-python",
   "name": "python",
   "nbconvert_exporter": "python",
   "pygments_lexer": "ipython2",
   "version": "2.7.6"
  }
 },
 "nbformat": 4,
 "nbformat_minor": 0
}