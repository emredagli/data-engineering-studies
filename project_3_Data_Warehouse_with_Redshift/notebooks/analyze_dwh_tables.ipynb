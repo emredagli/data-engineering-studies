{
 "cells": [
  {
   "cell_type": "markdown",
   "source": [
    "# ETL Pipeline Results"
   ],
   "metadata": {
    "collapsed": false,
    "pycharm": {
     "name": "#%% md\n"
    }
   }
  },
  {
   "cell_type": "markdown",
   "source": [
    "## Analytical Tables (DWH) Contents"
   ],
   "metadata": {
    "collapsed": false,
    "pycharm": {
     "name": "#%% md\n"
    }
   }
  },
  {
   "cell_type": "code",
   "execution_count": 49,
   "outputs": [],
   "source": [
    "from configparser import ConfigParser\n",
    "from sqlalchemy import create_engine\n",
    "import pandas as pd\n",
    "import unittest\n",
    "import math\n",
    "\n",
    "config = ConfigParser()\n",
    "config.read('./../dwh.cfg')\n",
    "\n",
    "HOST = config.get('CLUSTER', 'HOST')\n",
    "DB_NAME = config.get('CLUSTER', 'DB_NAME')\n",
    "DB_USER = config.get('CLUSTER', 'DB_USER')\n",
    "DB_PASSWORD = config.get('CLUSTER', 'DB_PASSWORD')\n",
    "DB_PORT = config.get('CLUSTER', 'DB_PORT')\n",
    "\n",
    "conn_string = f\"postgresql://{DB_USER}:{DB_PASSWORD}@{HOST}:{DB_PORT}/{DB_NAME}\"\n",
    "conn = create_engine(conn_string, client_encoding=\"UTF-8\")"
   ],
   "metadata": {
    "collapsed": false,
    "pycharm": {
     "name": "#%%\n"
    }
   }
  },
  {
   "cell_type": "markdown",
   "source": [
    "## Check Analytical Tables Loaded Correctly\n",
    "\n",
    "We have the following Analytical Tables:\n",
    "* songplays\n",
    "* users\n",
    "* artists\n",
    "* songs\n",
    "* time\n",
    "\n",
    "And these are the staging tables:\n",
    "* staging_songs\n",
    "* staging_events\n",
    "\n",
    "Before continue executing sample analytical queries it is better to check DWH table rows contain the expected values.\n",
    "\n",
    "First lets check the table counts:"
   ],
   "metadata": {
    "collapsed": false,
    "pycharm": {
     "name": "#%% md\n"
    }
   }
  },
  {
   "cell_type": "code",
   "execution_count": 50,
   "outputs": [
    {
     "data": {
      "text/plain": "       table_name   count\n0  staging_events    6820\n1           songs    5103\n2            time    6486\n3   staging_songs  385252\n4       songplays    6606\n5         artists    3040\n6           users      96",
      "text/html": "<div>\n<style scoped>\n    .dataframe tbody tr th:only-of-type {\n        vertical-align: middle;\n    }\n\n    .dataframe tbody tr th {\n        vertical-align: top;\n    }\n\n    .dataframe thead th {\n        text-align: right;\n    }\n</style>\n<table border=\"1\" class=\"dataframe\">\n  <thead>\n    <tr style=\"text-align: right;\">\n      <th></th>\n      <th>table_name</th>\n      <th>count</th>\n    </tr>\n  </thead>\n  <tbody>\n    <tr>\n      <th>0</th>\n      <td>staging_events</td>\n      <td>6820</td>\n    </tr>\n    <tr>\n      <th>1</th>\n      <td>songs</td>\n      <td>5103</td>\n    </tr>\n    <tr>\n      <th>2</th>\n      <td>time</td>\n      <td>6486</td>\n    </tr>\n    <tr>\n      <th>3</th>\n      <td>staging_songs</td>\n      <td>385252</td>\n    </tr>\n    <tr>\n      <th>4</th>\n      <td>songplays</td>\n      <td>6606</td>\n    </tr>\n    <tr>\n      <th>5</th>\n      <td>artists</td>\n      <td>3040</td>\n    </tr>\n    <tr>\n      <th>6</th>\n      <td>users</td>\n      <td>96</td>\n    </tr>\n  </tbody>\n</table>\n</div>"
     },
     "execution_count": 50,
     "metadata": {},
     "output_type": "execute_result"
    }
   ],
   "source": [
    "pd.read_sql(f\"\"\"\n",
    "SELECT 'staging_songs' as table_name, count(*) as count from staging_songs\n",
    "UNION SELECT 'staging_events' as table_name, count(*) as count from staging_events where page='NextSong'\n",
    "UNION SELECT 'songplays' as table_name, count(*) as count from songplays\n",
    "UNION SELECT 'users' as table_name, count(*) as count from users\n",
    "UNION SELECT 'artists' as table_name, count(*) as count from artists\n",
    "UNION SELECT 'songs' as table_name, count(*) as count from songs\n",
    "UNION SELECT 'time' as table_name, count(*) as count from time;\n",
    "\"\"\", con = conn)"
   ],
   "metadata": {
    "collapsed": false,
    "pycharm": {
     "name": "#%%\n"
    }
   }
  },
  {
   "cell_type": "markdown",
   "source": [
    "## Check The Data for a Specific Criteria\n",
    "\n",
    "As a methodology, to check the DWH table's contents are the same as our expectations, we will define a set of criteria.\n",
    "\n",
    "The selected search criteria are the same that we have used on `analyze_staging_data.ipynb`:"
   ],
   "metadata": {
    "collapsed": false,
    "pycharm": {
     "name": "#%% md\n"
    }
   }
  },
  {
   "cell_type": "code",
   "execution_count": 51,
   "outputs": [],
   "source": [
    "artist = 'Harmonia'\n",
    "song = 'Sehr kosmisch'\n",
    "length = '655.77751'"
   ],
   "metadata": {
    "collapsed": false,
    "pycharm": {
     "name": "#%%\n"
    }
   }
  },
  {
   "cell_type": "markdown",
   "source": [
    "Firstly the query results are stored, then we will iterate each row and compare the rows."
   ],
   "metadata": {
    "collapsed": false,
    "pycharm": {
     "name": "#%% md\n"
    }
   }
  },
  {
   "cell_type": "code",
   "execution_count": 52,
   "outputs": [
    {
     "data": {
      "text/plain": "      artist       auth  first_name gender  item_in_session last_name  \\\n0   Harmonia  Logged In      Harper      M               22   Barrett   \n1   Harmonia  Logged In        Kate      F               48   Harrell   \n2   Harmonia  Logged In      Aleena      F                0     Kirby   \n3   Harmonia  Logged In      Hayden      F               10     Brock   \n4   Harmonia  Logged In     Stefany      F                0     White   \n5   Harmonia  Logged In       Chloe      F               14    Cuevas   \n6   Harmonia  Logged In        Ryan      M                0     Smith   \n7   Harmonia  Logged In       Avery      F               55   Watkins   \n8   Harmonia  Logged In        Ryan      M                2     Smith   \n9   Harmonia  Logged In       Chloe      F               22    Cuevas   \n10  Harmonia  Logged In       Chloe      F               25    Cuevas   \n11  Harmonia  Logged In  Jacqueline      F               56     Lynch   \n12  Harmonia  Logged In       Tegan      F               19    Levine   \n13  Harmonia  Logged In        Kate      F                4   Harrell   \n14  Harmonia  Logged In       Tegan      F                0    Levine   \n15  Harmonia  Logged In     Kinsley      F                9     Young   \n16  Harmonia  Logged In        Ryan      M                1     Smith   \n17  Harmonia  Logged In       Tegan      F                4    Levine   \n18  Harmonia  Logged In       Jacob      M               19     Klein   \n19  Harmonia  Logged In       Rylan      M               69    George   \n20  Harmonia  Logged In     Matthew      M               12     Jones   \n\n       length level                               location method      page  \\\n0   655.77751  paid  New York-Newark-Jersey City, NY-NJ-PA    PUT  NextSong   \n1   655.77751  paid               Lansing-East Lansing, MI    PUT  NextSong   \n2   655.77751  paid               Waterloo-Cedar Falls, IA    PUT  NextSong   \n3   655.77751  paid            Detroit-Warren-Dearborn, MI    PUT  NextSong   \n4   655.77751  free                            Lubbock, TX    PUT  NextSong   \n5   655.77751  paid      San Francisco-Oakland-Hayward, CA    PUT  NextSong   \n6   655.77751  free     San Jose-Sunnyvale-Santa Clara, CA    PUT  NextSong   \n7   655.77751  paid     San Jose-Sunnyvale-Santa Clara, CA    PUT  NextSong   \n8   655.77751  free     San Jose-Sunnyvale-Santa Clara, CA    PUT  NextSong   \n9   655.77751  paid      San Francisco-Oakland-Hayward, CA    PUT  NextSong   \n10  655.77751  paid      San Francisco-Oakland-Hayward, CA    PUT  NextSong   \n11  655.77751  paid      Atlanta-Sandy Springs-Roswell, GA    PUT  NextSong   \n12  655.77751  paid            Portland-South Portland, ME    PUT  NextSong   \n13  655.77751  paid               Lansing-East Lansing, MI    PUT  NextSong   \n14  655.77751  paid            Portland-South Portland, ME    PUT  NextSong   \n15  655.77751  paid                          Red Bluff, CA    PUT  NextSong   \n16  655.77751  free     San Jose-Sunnyvale-Santa Clara, CA    PUT  NextSong   \n17  655.77751  paid            Portland-South Portland, ME    PUT  NextSong   \n18  655.77751  paid    Tampa-St. Petersburg-Clearwater, FL    PUT  NextSong   \n19  655.77751  paid                  Birmingham-Hoover, AL    PUT  NextSong   \n20  655.77751  paid                  Janesville-Beloit, WI    PUT  NextSong   \n\n     registration  session_id           song  status             ts  \\\n0   1540685364796         129  Sehr kosmisch     200  1541411918796   \n1   1540472624796         293  Sehr kosmisch     200  1541539531796   \n2   1541022995796         285  Sehr kosmisch     200  1541596896796   \n3   1540852600796         117  Sehr kosmisch     200  1541675751796   \n4   1540708070796         380  Sehr kosmisch     200  1542100680796   \n5   1540940782796         568  Sehr kosmisch     200  1542186926796   \n6   1541016707796         583  Sehr kosmisch     200  1542241826796   \n7   1540871783796         324  Sehr kosmisch     200  1542288215796   \n8   1541016707796         622  Sehr kosmisch     200  1542355762796   \n9   1540940782796         636  Sehr kosmisch     200  1542363544796   \n10  1540940782796         636  Sehr kosmisch     200  1542364577796   \n11  1540223723796         589  Sehr kosmisch     200  1542559174796   \n12  1540794356796         774  Sehr kosmisch     200  1542766720796   \n13  1540472624796         817  Sehr kosmisch     200  1542822256796   \n14  1540794356796         848  Sehr kosmisch     200  1542970955796   \n15  1540465241796         891  Sehr kosmisch     200  1543004331796   \n16  1541016707796         873  Sehr kosmisch     200  1543020705796   \n17  1540794356796        1004  Sehr kosmisch     200  1543422175796   \n18  1540558108796         954  Sehr kosmisch     200  1543441265796   \n19  1541020249796         983  Sehr kosmisch     200  1543519591796   \n20  1541062818796         998  Sehr kosmisch     200  1543575563796   \n\n                                           user_agent  user_id  \n0   \"Mozilla/5.0 (Windows NT 6.3; WOW64) AppleWebK...       42  \n1   \"Mozilla/5.0 (X11; Linux x86_64) AppleWebKit/5...       97  \n2   Mozilla/5.0 (Macintosh; Intel Mac OS X 10.9; r...       44  \n3   Mozilla/5.0 (Macintosh; Intel Mac OS X 10.9; r...       72  \n4   \"Mozilla/5.0 (Macintosh; Intel Mac OS X 10_9_4...       83  \n5   Mozilla/5.0 (Windows NT 5.1; rv:31.0) Gecko/20...       49  \n6   \"Mozilla/5.0 (X11; Linux x86_64) AppleWebKit/5...       26  \n7   Mozilla/5.0 (Windows NT 6.1; WOW64; rv:31.0) G...       30  \n8   \"Mozilla/5.0 (X11; Linux x86_64) AppleWebKit/5...       26  \n9   Mozilla/5.0 (Windows NT 5.1; rv:31.0) Gecko/20...       49  \n10  Mozilla/5.0 (Windows NT 5.1; rv:31.0) Gecko/20...       49  \n11  \"Mozilla/5.0 (Macintosh; Intel Mac OS X 10_9_4...       29  \n12  \"Mozilla/5.0 (Macintosh; Intel Mac OS X 10_9_4...       80  \n13  \"Mozilla/5.0 (X11; Linux x86_64) AppleWebKit/5...       97  \n14  \"Mozilla/5.0 (Macintosh; Intel Mac OS X 10_9_4...       80  \n15  \"Mozilla/5.0 (Macintosh; Intel Mac OS X 10_10_...       85  \n16  \"Mozilla/5.0 (X11; Linux x86_64) AppleWebKit/5...       26  \n17  \"Mozilla/5.0 (Macintosh; Intel Mac OS X 10_9_4...       80  \n18  \"Mozilla/5.0 (Macintosh; Intel Mac OS X 10_9_4...       73  \n19  \"Mozilla/5.0 (Macintosh; Intel Mac OS X 10_9_4...       16  \n20  \"Mozilla/5.0 (Windows NT 5.1) AppleWebKit/537....       36  ",
      "text/html": "<div>\n<style scoped>\n    .dataframe tbody tr th:only-of-type {\n        vertical-align: middle;\n    }\n\n    .dataframe tbody tr th {\n        vertical-align: top;\n    }\n\n    .dataframe thead th {\n        text-align: right;\n    }\n</style>\n<table border=\"1\" class=\"dataframe\">\n  <thead>\n    <tr style=\"text-align: right;\">\n      <th></th>\n      <th>artist</th>\n      <th>auth</th>\n      <th>first_name</th>\n      <th>gender</th>\n      <th>item_in_session</th>\n      <th>last_name</th>\n      <th>length</th>\n      <th>level</th>\n      <th>location</th>\n      <th>method</th>\n      <th>page</th>\n      <th>registration</th>\n      <th>session_id</th>\n      <th>song</th>\n      <th>status</th>\n      <th>ts</th>\n      <th>user_agent</th>\n      <th>user_id</th>\n    </tr>\n  </thead>\n  <tbody>\n    <tr>\n      <th>0</th>\n      <td>Harmonia</td>\n      <td>Logged In</td>\n      <td>Harper</td>\n      <td>M</td>\n      <td>22</td>\n      <td>Barrett</td>\n      <td>655.77751</td>\n      <td>paid</td>\n      <td>New York-Newark-Jersey City, NY-NJ-PA</td>\n      <td>PUT</td>\n      <td>NextSong</td>\n      <td>1540685364796</td>\n      <td>129</td>\n      <td>Sehr kosmisch</td>\n      <td>200</td>\n      <td>1541411918796</td>\n      <td>\"Mozilla/5.0 (Windows NT 6.3; WOW64) AppleWebK...</td>\n      <td>42</td>\n    </tr>\n    <tr>\n      <th>1</th>\n      <td>Harmonia</td>\n      <td>Logged In</td>\n      <td>Kate</td>\n      <td>F</td>\n      <td>48</td>\n      <td>Harrell</td>\n      <td>655.77751</td>\n      <td>paid</td>\n      <td>Lansing-East Lansing, MI</td>\n      <td>PUT</td>\n      <td>NextSong</td>\n      <td>1540472624796</td>\n      <td>293</td>\n      <td>Sehr kosmisch</td>\n      <td>200</td>\n      <td>1541539531796</td>\n      <td>\"Mozilla/5.0 (X11; Linux x86_64) AppleWebKit/5...</td>\n      <td>97</td>\n    </tr>\n    <tr>\n      <th>2</th>\n      <td>Harmonia</td>\n      <td>Logged In</td>\n      <td>Aleena</td>\n      <td>F</td>\n      <td>0</td>\n      <td>Kirby</td>\n      <td>655.77751</td>\n      <td>paid</td>\n      <td>Waterloo-Cedar Falls, IA</td>\n      <td>PUT</td>\n      <td>NextSong</td>\n      <td>1541022995796</td>\n      <td>285</td>\n      <td>Sehr kosmisch</td>\n      <td>200</td>\n      <td>1541596896796</td>\n      <td>Mozilla/5.0 (Macintosh; Intel Mac OS X 10.9; r...</td>\n      <td>44</td>\n    </tr>\n    <tr>\n      <th>3</th>\n      <td>Harmonia</td>\n      <td>Logged In</td>\n      <td>Hayden</td>\n      <td>F</td>\n      <td>10</td>\n      <td>Brock</td>\n      <td>655.77751</td>\n      <td>paid</td>\n      <td>Detroit-Warren-Dearborn, MI</td>\n      <td>PUT</td>\n      <td>NextSong</td>\n      <td>1540852600796</td>\n      <td>117</td>\n      <td>Sehr kosmisch</td>\n      <td>200</td>\n      <td>1541675751796</td>\n      <td>Mozilla/5.0 (Macintosh; Intel Mac OS X 10.9; r...</td>\n      <td>72</td>\n    </tr>\n    <tr>\n      <th>4</th>\n      <td>Harmonia</td>\n      <td>Logged In</td>\n      <td>Stefany</td>\n      <td>F</td>\n      <td>0</td>\n      <td>White</td>\n      <td>655.77751</td>\n      <td>free</td>\n      <td>Lubbock, TX</td>\n      <td>PUT</td>\n      <td>NextSong</td>\n      <td>1540708070796</td>\n      <td>380</td>\n      <td>Sehr kosmisch</td>\n      <td>200</td>\n      <td>1542100680796</td>\n      <td>\"Mozilla/5.0 (Macintosh; Intel Mac OS X 10_9_4...</td>\n      <td>83</td>\n    </tr>\n    <tr>\n      <th>5</th>\n      <td>Harmonia</td>\n      <td>Logged In</td>\n      <td>Chloe</td>\n      <td>F</td>\n      <td>14</td>\n      <td>Cuevas</td>\n      <td>655.77751</td>\n      <td>paid</td>\n      <td>San Francisco-Oakland-Hayward, CA</td>\n      <td>PUT</td>\n      <td>NextSong</td>\n      <td>1540940782796</td>\n      <td>568</td>\n      <td>Sehr kosmisch</td>\n      <td>200</td>\n      <td>1542186926796</td>\n      <td>Mozilla/5.0 (Windows NT 5.1; rv:31.0) Gecko/20...</td>\n      <td>49</td>\n    </tr>\n    <tr>\n      <th>6</th>\n      <td>Harmonia</td>\n      <td>Logged In</td>\n      <td>Ryan</td>\n      <td>M</td>\n      <td>0</td>\n      <td>Smith</td>\n      <td>655.77751</td>\n      <td>free</td>\n      <td>San Jose-Sunnyvale-Santa Clara, CA</td>\n      <td>PUT</td>\n      <td>NextSong</td>\n      <td>1541016707796</td>\n      <td>583</td>\n      <td>Sehr kosmisch</td>\n      <td>200</td>\n      <td>1542241826796</td>\n      <td>\"Mozilla/5.0 (X11; Linux x86_64) AppleWebKit/5...</td>\n      <td>26</td>\n    </tr>\n    <tr>\n      <th>7</th>\n      <td>Harmonia</td>\n      <td>Logged In</td>\n      <td>Avery</td>\n      <td>F</td>\n      <td>55</td>\n      <td>Watkins</td>\n      <td>655.77751</td>\n      <td>paid</td>\n      <td>San Jose-Sunnyvale-Santa Clara, CA</td>\n      <td>PUT</td>\n      <td>NextSong</td>\n      <td>1540871783796</td>\n      <td>324</td>\n      <td>Sehr kosmisch</td>\n      <td>200</td>\n      <td>1542288215796</td>\n      <td>Mozilla/5.0 (Windows NT 6.1; WOW64; rv:31.0) G...</td>\n      <td>30</td>\n    </tr>\n    <tr>\n      <th>8</th>\n      <td>Harmonia</td>\n      <td>Logged In</td>\n      <td>Ryan</td>\n      <td>M</td>\n      <td>2</td>\n      <td>Smith</td>\n      <td>655.77751</td>\n      <td>free</td>\n      <td>San Jose-Sunnyvale-Santa Clara, CA</td>\n      <td>PUT</td>\n      <td>NextSong</td>\n      <td>1541016707796</td>\n      <td>622</td>\n      <td>Sehr kosmisch</td>\n      <td>200</td>\n      <td>1542355762796</td>\n      <td>\"Mozilla/5.0 (X11; Linux x86_64) AppleWebKit/5...</td>\n      <td>26</td>\n    </tr>\n    <tr>\n      <th>9</th>\n      <td>Harmonia</td>\n      <td>Logged In</td>\n      <td>Chloe</td>\n      <td>F</td>\n      <td>22</td>\n      <td>Cuevas</td>\n      <td>655.77751</td>\n      <td>paid</td>\n      <td>San Francisco-Oakland-Hayward, CA</td>\n      <td>PUT</td>\n      <td>NextSong</td>\n      <td>1540940782796</td>\n      <td>636</td>\n      <td>Sehr kosmisch</td>\n      <td>200</td>\n      <td>1542363544796</td>\n      <td>Mozilla/5.0 (Windows NT 5.1; rv:31.0) Gecko/20...</td>\n      <td>49</td>\n    </tr>\n    <tr>\n      <th>10</th>\n      <td>Harmonia</td>\n      <td>Logged In</td>\n      <td>Chloe</td>\n      <td>F</td>\n      <td>25</td>\n      <td>Cuevas</td>\n      <td>655.77751</td>\n      <td>paid</td>\n      <td>San Francisco-Oakland-Hayward, CA</td>\n      <td>PUT</td>\n      <td>NextSong</td>\n      <td>1540940782796</td>\n      <td>636</td>\n      <td>Sehr kosmisch</td>\n      <td>200</td>\n      <td>1542364577796</td>\n      <td>Mozilla/5.0 (Windows NT 5.1; rv:31.0) Gecko/20...</td>\n      <td>49</td>\n    </tr>\n    <tr>\n      <th>11</th>\n      <td>Harmonia</td>\n      <td>Logged In</td>\n      <td>Jacqueline</td>\n      <td>F</td>\n      <td>56</td>\n      <td>Lynch</td>\n      <td>655.77751</td>\n      <td>paid</td>\n      <td>Atlanta-Sandy Springs-Roswell, GA</td>\n      <td>PUT</td>\n      <td>NextSong</td>\n      <td>1540223723796</td>\n      <td>589</td>\n      <td>Sehr kosmisch</td>\n      <td>200</td>\n      <td>1542559174796</td>\n      <td>\"Mozilla/5.0 (Macintosh; Intel Mac OS X 10_9_4...</td>\n      <td>29</td>\n    </tr>\n    <tr>\n      <th>12</th>\n      <td>Harmonia</td>\n      <td>Logged In</td>\n      <td>Tegan</td>\n      <td>F</td>\n      <td>19</td>\n      <td>Levine</td>\n      <td>655.77751</td>\n      <td>paid</td>\n      <td>Portland-South Portland, ME</td>\n      <td>PUT</td>\n      <td>NextSong</td>\n      <td>1540794356796</td>\n      <td>774</td>\n      <td>Sehr kosmisch</td>\n      <td>200</td>\n      <td>1542766720796</td>\n      <td>\"Mozilla/5.0 (Macintosh; Intel Mac OS X 10_9_4...</td>\n      <td>80</td>\n    </tr>\n    <tr>\n      <th>13</th>\n      <td>Harmonia</td>\n      <td>Logged In</td>\n      <td>Kate</td>\n      <td>F</td>\n      <td>4</td>\n      <td>Harrell</td>\n      <td>655.77751</td>\n      <td>paid</td>\n      <td>Lansing-East Lansing, MI</td>\n      <td>PUT</td>\n      <td>NextSong</td>\n      <td>1540472624796</td>\n      <td>817</td>\n      <td>Sehr kosmisch</td>\n      <td>200</td>\n      <td>1542822256796</td>\n      <td>\"Mozilla/5.0 (X11; Linux x86_64) AppleWebKit/5...</td>\n      <td>97</td>\n    </tr>\n    <tr>\n      <th>14</th>\n      <td>Harmonia</td>\n      <td>Logged In</td>\n      <td>Tegan</td>\n      <td>F</td>\n      <td>0</td>\n      <td>Levine</td>\n      <td>655.77751</td>\n      <td>paid</td>\n      <td>Portland-South Portland, ME</td>\n      <td>PUT</td>\n      <td>NextSong</td>\n      <td>1540794356796</td>\n      <td>848</td>\n      <td>Sehr kosmisch</td>\n      <td>200</td>\n      <td>1542970955796</td>\n      <td>\"Mozilla/5.0 (Macintosh; Intel Mac OS X 10_9_4...</td>\n      <td>80</td>\n    </tr>\n    <tr>\n      <th>15</th>\n      <td>Harmonia</td>\n      <td>Logged In</td>\n      <td>Kinsley</td>\n      <td>F</td>\n      <td>9</td>\n      <td>Young</td>\n      <td>655.77751</td>\n      <td>paid</td>\n      <td>Red Bluff, CA</td>\n      <td>PUT</td>\n      <td>NextSong</td>\n      <td>1540465241796</td>\n      <td>891</td>\n      <td>Sehr kosmisch</td>\n      <td>200</td>\n      <td>1543004331796</td>\n      <td>\"Mozilla/5.0 (Macintosh; Intel Mac OS X 10_10_...</td>\n      <td>85</td>\n    </tr>\n    <tr>\n      <th>16</th>\n      <td>Harmonia</td>\n      <td>Logged In</td>\n      <td>Ryan</td>\n      <td>M</td>\n      <td>1</td>\n      <td>Smith</td>\n      <td>655.77751</td>\n      <td>free</td>\n      <td>San Jose-Sunnyvale-Santa Clara, CA</td>\n      <td>PUT</td>\n      <td>NextSong</td>\n      <td>1541016707796</td>\n      <td>873</td>\n      <td>Sehr kosmisch</td>\n      <td>200</td>\n      <td>1543020705796</td>\n      <td>\"Mozilla/5.0 (X11; Linux x86_64) AppleWebKit/5...</td>\n      <td>26</td>\n    </tr>\n    <tr>\n      <th>17</th>\n      <td>Harmonia</td>\n      <td>Logged In</td>\n      <td>Tegan</td>\n      <td>F</td>\n      <td>4</td>\n      <td>Levine</td>\n      <td>655.77751</td>\n      <td>paid</td>\n      <td>Portland-South Portland, ME</td>\n      <td>PUT</td>\n      <td>NextSong</td>\n      <td>1540794356796</td>\n      <td>1004</td>\n      <td>Sehr kosmisch</td>\n      <td>200</td>\n      <td>1543422175796</td>\n      <td>\"Mozilla/5.0 (Macintosh; Intel Mac OS X 10_9_4...</td>\n      <td>80</td>\n    </tr>\n    <tr>\n      <th>18</th>\n      <td>Harmonia</td>\n      <td>Logged In</td>\n      <td>Jacob</td>\n      <td>M</td>\n      <td>19</td>\n      <td>Klein</td>\n      <td>655.77751</td>\n      <td>paid</td>\n      <td>Tampa-St. Petersburg-Clearwater, FL</td>\n      <td>PUT</td>\n      <td>NextSong</td>\n      <td>1540558108796</td>\n      <td>954</td>\n      <td>Sehr kosmisch</td>\n      <td>200</td>\n      <td>1543441265796</td>\n      <td>\"Mozilla/5.0 (Macintosh; Intel Mac OS X 10_9_4...</td>\n      <td>73</td>\n    </tr>\n    <tr>\n      <th>19</th>\n      <td>Harmonia</td>\n      <td>Logged In</td>\n      <td>Rylan</td>\n      <td>M</td>\n      <td>69</td>\n      <td>George</td>\n      <td>655.77751</td>\n      <td>paid</td>\n      <td>Birmingham-Hoover, AL</td>\n      <td>PUT</td>\n      <td>NextSong</td>\n      <td>1541020249796</td>\n      <td>983</td>\n      <td>Sehr kosmisch</td>\n      <td>200</td>\n      <td>1543519591796</td>\n      <td>\"Mozilla/5.0 (Macintosh; Intel Mac OS X 10_9_4...</td>\n      <td>16</td>\n    </tr>\n    <tr>\n      <th>20</th>\n      <td>Harmonia</td>\n      <td>Logged In</td>\n      <td>Matthew</td>\n      <td>M</td>\n      <td>12</td>\n      <td>Jones</td>\n      <td>655.77751</td>\n      <td>paid</td>\n      <td>Janesville-Beloit, WI</td>\n      <td>PUT</td>\n      <td>NextSong</td>\n      <td>1541062818796</td>\n      <td>998</td>\n      <td>Sehr kosmisch</td>\n      <td>200</td>\n      <td>1543575563796</td>\n      <td>\"Mozilla/5.0 (Windows NT 5.1) AppleWebKit/537....</td>\n      <td>36</td>\n    </tr>\n  </tbody>\n</table>\n</div>"
     },
     "execution_count": 52,
     "metadata": {},
     "output_type": "execute_result"
    }
   ],
   "source": [
    "df_staging_events = pd.read_sql(f\"\"\"\n",
    "SELECT * FROM staging_events\n",
    "WHERE page='NextSong' and artist = '{artist}' and song = '{song}' and length = {length}\n",
    "ORDER BY ts, user_id;\n",
    "\"\"\", con=conn)\n",
    "\n",
    "df_staging_events.head(100)"
   ],
   "metadata": {
    "collapsed": false,
    "pycharm": {
     "name": "#%%\n"
    }
   }
  },
  {
   "cell_type": "code",
   "execution_count": 53,
   "outputs": [
    {
     "data": {
      "text/plain": "              song_id  num_songs          title artist_name  artist_latitude  \\\n0  SOFRQTD12A81C233C0          1  Sehr kosmisch    Harmonia         34.05349   \n\n   year   duration           artist_id  artist_longitude artist_location  \n0     0  655.77751  AR0IVTL1187B9AD520        -118.24532   United States  ",
      "text/html": "<div>\n<style scoped>\n    .dataframe tbody tr th:only-of-type {\n        vertical-align: middle;\n    }\n\n    .dataframe tbody tr th {\n        vertical-align: top;\n    }\n\n    .dataframe thead th {\n        text-align: right;\n    }\n</style>\n<table border=\"1\" class=\"dataframe\">\n  <thead>\n    <tr style=\"text-align: right;\">\n      <th></th>\n      <th>song_id</th>\n      <th>num_songs</th>\n      <th>title</th>\n      <th>artist_name</th>\n      <th>artist_latitude</th>\n      <th>year</th>\n      <th>duration</th>\n      <th>artist_id</th>\n      <th>artist_longitude</th>\n      <th>artist_location</th>\n    </tr>\n  </thead>\n  <tbody>\n    <tr>\n      <th>0</th>\n      <td>SOFRQTD12A81C233C0</td>\n      <td>1</td>\n      <td>Sehr kosmisch</td>\n      <td>Harmonia</td>\n      <td>34.05349</td>\n      <td>0</td>\n      <td>655.77751</td>\n      <td>AR0IVTL1187B9AD520</td>\n      <td>-118.24532</td>\n      <td>United States</td>\n    </tr>\n  </tbody>\n</table>\n</div>"
     },
     "execution_count": 53,
     "metadata": {},
     "output_type": "execute_result"
    }
   ],
   "source": [
    "df_staging_songs = pd.read_sql(f\"\"\"\n",
    "SELECT * FROM staging_songs\n",
    "WHERE artist_name = '{artist}' and title = '{song}' and duration = {length};\n",
    "\"\"\", con=conn)\n",
    "\n",
    "df_staging_songs.head(100)"
   ],
   "metadata": {
    "collapsed": false,
    "pycharm": {
     "name": "#%%\n"
    }
   }
  },
  {
   "cell_type": "markdown",
   "source": [
    "With the defined criteria:\n",
    "* artist = 'Harmonia'\n",
    "* song = 'Sehr kosmisch'\n",
    "* length = '655.77751'\n",
    "\n",
    "We have:\n",
    "* 21 records in `staging_events`\n",
    "* 1 record in `staging_songs`\n",
    "\n",
    "On following analytical query, we are expecting again the same 21 records that contain the same information queried above."
   ],
   "metadata": {
    "collapsed": false,
    "pycharm": {
     "name": "#%% md\n"
    }
   }
  },
  {
   "cell_type": "code",
   "execution_count": 54,
   "outputs": [
    {
     "data": {
      "text/plain": "    songplay_id          start_time  user_id level             song_id  \\\n0          4595 2018-11-05 09:58:38       42  paid  SOFRQTD12A81C233C0   \n1          4593 2018-11-06 21:25:31       97  paid  SOFRQTD12A81C233C0   \n2          4591 2018-11-07 13:21:36       44  paid  SOFRQTD12A81C233C0   \n3          4589 2018-11-08 11:15:51       72  paid  SOFRQTD12A81C233C0   \n4          4585 2018-11-13 09:18:00       83  free  SOFRQTD12A81C233C0   \n5          4587 2018-11-14 09:15:26       49  paid  SOFRQTD12A81C233C0   \n6          4577 2018-11-15 00:30:26       26  free  SOFRQTD12A81C233C0   \n7          4575 2018-11-15 13:23:35       30  paid  SOFRQTD12A81C233C0   \n8          4583 2018-11-16 08:09:22       26  free  SOFRQTD12A81C233C0   \n9          4581 2018-11-16 10:19:04       49  paid  SOFRQTD12A81C233C0   \n10         4579 2018-11-16 10:36:17       49  paid  SOFRQTD12A81C233C0   \n11         4573 2018-11-18 16:39:34       29  paid  SOFRQTD12A81C233C0   \n12         4569 2018-11-21 02:18:40       80  paid  SOFRQTD12A81C233C0   \n13         4567 2018-11-21 17:44:16       97  paid  SOFRQTD12A81C233C0   \n14         4565 2018-11-23 11:02:35       80  paid  SOFRQTD12A81C233C0   \n15         4563 2018-11-23 20:18:51       85  paid  SOFRQTD12A81C233C0   \n16         4571 2018-11-24 00:51:45       26  free  SOFRQTD12A81C233C0   \n17         4561 2018-11-28 16:22:55       80  paid  SOFRQTD12A81C233C0   \n18         4559 2018-11-28 21:41:05       73  paid  SOFRQTD12A81C233C0   \n19         4555 2018-11-29 19:26:31       16  paid  SOFRQTD12A81C233C0   \n20         4557 2018-11-30 10:59:23       36  paid  SOFRQTD12A81C233C0   \n\n             artist_id  session_id                               location  \\\n0   AR0IVTL1187B9AD520         129  New York-Newark-Jersey City, NY-NJ-PA   \n1   AR0IVTL1187B9AD520         293               Lansing-East Lansing, MI   \n2   AR0IVTL1187B9AD520         285               Waterloo-Cedar Falls, IA   \n3   AR0IVTL1187B9AD520         117            Detroit-Warren-Dearborn, MI   \n4   AR0IVTL1187B9AD520         380                            Lubbock, TX   \n5   AR0IVTL1187B9AD520         568      San Francisco-Oakland-Hayward, CA   \n6   AR0IVTL1187B9AD520         583     San Jose-Sunnyvale-Santa Clara, CA   \n7   AR0IVTL1187B9AD520         324     San Jose-Sunnyvale-Santa Clara, CA   \n8   AR0IVTL1187B9AD520         622     San Jose-Sunnyvale-Santa Clara, CA   \n9   AR0IVTL1187B9AD520         636      San Francisco-Oakland-Hayward, CA   \n10  AR0IVTL1187B9AD520         636      San Francisco-Oakland-Hayward, CA   \n11  AR0IVTL1187B9AD520         589      Atlanta-Sandy Springs-Roswell, GA   \n12  AR0IVTL1187B9AD520         774            Portland-South Portland, ME   \n13  AR0IVTL1187B9AD520         817               Lansing-East Lansing, MI   \n14  AR0IVTL1187B9AD520         848            Portland-South Portland, ME   \n15  AR0IVTL1187B9AD520         891                          Red Bluff, CA   \n16  AR0IVTL1187B9AD520         873     San Jose-Sunnyvale-Santa Clara, CA   \n17  AR0IVTL1187B9AD520        1004            Portland-South Portland, ME   \n18  AR0IVTL1187B9AD520         954    Tampa-St. Petersburg-Clearwater, FL   \n19  AR0IVTL1187B9AD520         983                  Birmingham-Hoover, AL   \n20  AR0IVTL1187B9AD520         998                  Janesville-Beloit, WI   \n\n                                           user_agent  user_id  ... day week  \\\n0   \"Mozilla/5.0 (Windows NT 6.3; WOW64) AppleWebK...       42  ...   5   45   \n1   \"Mozilla/5.0 (X11; Linux x86_64) AppleWebKit/5...       97  ...   6   45   \n2   Mozilla/5.0 (Macintosh; Intel Mac OS X 10.9; r...       44  ...   7   45   \n3   Mozilla/5.0 (Macintosh; Intel Mac OS X 10.9; r...       72  ...   8   45   \n4   \"Mozilla/5.0 (Macintosh; Intel Mac OS X 10_9_4...       83  ...  13   46   \n5   Mozilla/5.0 (Windows NT 5.1; rv:31.0) Gecko/20...       49  ...  14   46   \n6   \"Mozilla/5.0 (X11; Linux x86_64) AppleWebKit/5...       26  ...  15   46   \n7   Mozilla/5.0 (Windows NT 6.1; WOW64; rv:31.0) G...       30  ...  15   46   \n8   \"Mozilla/5.0 (X11; Linux x86_64) AppleWebKit/5...       26  ...  16   46   \n9   Mozilla/5.0 (Windows NT 5.1; rv:31.0) Gecko/20...       49  ...  16   46   \n10  Mozilla/5.0 (Windows NT 5.1; rv:31.0) Gecko/20...       49  ...  16   46   \n11  \"Mozilla/5.0 (Macintosh; Intel Mac OS X 10_9_4...       29  ...  18   46   \n12  \"Mozilla/5.0 (Macintosh; Intel Mac OS X 10_9_4...       80  ...  21   47   \n13  \"Mozilla/5.0 (X11; Linux x86_64) AppleWebKit/5...       97  ...  21   47   \n14  \"Mozilla/5.0 (Macintosh; Intel Mac OS X 10_9_4...       80  ...  23   47   \n15  \"Mozilla/5.0 (Macintosh; Intel Mac OS X 10_10_...       85  ...  23   47   \n16  \"Mozilla/5.0 (X11; Linux x86_64) AppleWebKit/5...       26  ...  24   47   \n17  \"Mozilla/5.0 (Macintosh; Intel Mac OS X 10_9_4...       80  ...  28   48   \n18  \"Mozilla/5.0 (Macintosh; Intel Mac OS X 10_9_4...       73  ...  28   48   \n19  \"Mozilla/5.0 (Macintosh; Intel Mac OS X 10_9_4...       16  ...  29   48   \n20  \"Mozilla/5.0 (Windows NT 5.1) AppleWebKit/537....       36  ...  30   48   \n\n   month  year weekday                     songsplay_location artist_location  \\\n0     11  2018       1  New York-Newark-Jersey City, NY-NJ-PA   United States   \n1     11  2018       2               Lansing-East Lansing, MI   United States   \n2     11  2018       3               Waterloo-Cedar Falls, IA   United States   \n3     11  2018       4            Detroit-Warren-Dearborn, MI   United States   \n4     11  2018       2                            Lubbock, TX   United States   \n5     11  2018       3      San Francisco-Oakland-Hayward, CA   United States   \n6     11  2018       4     San Jose-Sunnyvale-Santa Clara, CA   United States   \n7     11  2018       4     San Jose-Sunnyvale-Santa Clara, CA   United States   \n8     11  2018       5     San Jose-Sunnyvale-Santa Clara, CA   United States   \n9     11  2018       5      San Francisco-Oakland-Hayward, CA   United States   \n10    11  2018       5      San Francisco-Oakland-Hayward, CA   United States   \n11    11  2018       0      Atlanta-Sandy Springs-Roswell, GA   United States   \n12    11  2018       3            Portland-South Portland, ME   United States   \n13    11  2018       3               Lansing-East Lansing, MI   United States   \n14    11  2018       5            Portland-South Portland, ME   United States   \n15    11  2018       5                          Red Bluff, CA   United States   \n16    11  2018       6     San Jose-Sunnyvale-Santa Clara, CA   United States   \n17    11  2018       3            Portland-South Portland, ME   United States   \n18    11  2018       3    Tampa-St. Petersburg-Clearwater, FL   United States   \n19    11  2018       4                  Birmingham-Hoover, AL   United States   \n20    11  2018       5                  Janesville-Beloit, WI   United States   \n\n    songs_year  time_year songsplay_level  \n0            0       2018            paid  \n1            0       2018            paid  \n2            0       2018            paid  \n3            0       2018            paid  \n4            0       2018            free  \n5            0       2018            paid  \n6            0       2018            free  \n7            0       2018            paid  \n8            0       2018            free  \n9            0       2018            paid  \n10           0       2018            paid  \n11           0       2018            paid  \n12           0       2018            paid  \n13           0       2018            paid  \n14           0       2018            paid  \n15           0       2018            paid  \n16           0       2018            free  \n17           0       2018            paid  \n18           0       2018            paid  \n19           0       2018            paid  \n20           0       2018            paid  \n\n[21 rows x 36 columns]",
      "text/html": "<div>\n<style scoped>\n    .dataframe tbody tr th:only-of-type {\n        vertical-align: middle;\n    }\n\n    .dataframe tbody tr th {\n        vertical-align: top;\n    }\n\n    .dataframe thead th {\n        text-align: right;\n    }\n</style>\n<table border=\"1\" class=\"dataframe\">\n  <thead>\n    <tr style=\"text-align: right;\">\n      <th></th>\n      <th>songplay_id</th>\n      <th>start_time</th>\n      <th>user_id</th>\n      <th>level</th>\n      <th>song_id</th>\n      <th>artist_id</th>\n      <th>session_id</th>\n      <th>location</th>\n      <th>user_agent</th>\n      <th>user_id</th>\n      <th>...</th>\n      <th>day</th>\n      <th>week</th>\n      <th>month</th>\n      <th>year</th>\n      <th>weekday</th>\n      <th>songsplay_location</th>\n      <th>artist_location</th>\n      <th>songs_year</th>\n      <th>time_year</th>\n      <th>songsplay_level</th>\n    </tr>\n  </thead>\n  <tbody>\n    <tr>\n      <th>0</th>\n      <td>4595</td>\n      <td>2018-11-05 09:58:38</td>\n      <td>42</td>\n      <td>paid</td>\n      <td>SOFRQTD12A81C233C0</td>\n      <td>AR0IVTL1187B9AD520</td>\n      <td>129</td>\n      <td>New York-Newark-Jersey City, NY-NJ-PA</td>\n      <td>\"Mozilla/5.0 (Windows NT 6.3; WOW64) AppleWebK...</td>\n      <td>42</td>\n      <td>...</td>\n      <td>5</td>\n      <td>45</td>\n      <td>11</td>\n      <td>2018</td>\n      <td>1</td>\n      <td>New York-Newark-Jersey City, NY-NJ-PA</td>\n      <td>United States</td>\n      <td>0</td>\n      <td>2018</td>\n      <td>paid</td>\n    </tr>\n    <tr>\n      <th>1</th>\n      <td>4593</td>\n      <td>2018-11-06 21:25:31</td>\n      <td>97</td>\n      <td>paid</td>\n      <td>SOFRQTD12A81C233C0</td>\n      <td>AR0IVTL1187B9AD520</td>\n      <td>293</td>\n      <td>Lansing-East Lansing, MI</td>\n      <td>\"Mozilla/5.0 (X11; Linux x86_64) AppleWebKit/5...</td>\n      <td>97</td>\n      <td>...</td>\n      <td>6</td>\n      <td>45</td>\n      <td>11</td>\n      <td>2018</td>\n      <td>2</td>\n      <td>Lansing-East Lansing, MI</td>\n      <td>United States</td>\n      <td>0</td>\n      <td>2018</td>\n      <td>paid</td>\n    </tr>\n    <tr>\n      <th>2</th>\n      <td>4591</td>\n      <td>2018-11-07 13:21:36</td>\n      <td>44</td>\n      <td>paid</td>\n      <td>SOFRQTD12A81C233C0</td>\n      <td>AR0IVTL1187B9AD520</td>\n      <td>285</td>\n      <td>Waterloo-Cedar Falls, IA</td>\n      <td>Mozilla/5.0 (Macintosh; Intel Mac OS X 10.9; r...</td>\n      <td>44</td>\n      <td>...</td>\n      <td>7</td>\n      <td>45</td>\n      <td>11</td>\n      <td>2018</td>\n      <td>3</td>\n      <td>Waterloo-Cedar Falls, IA</td>\n      <td>United States</td>\n      <td>0</td>\n      <td>2018</td>\n      <td>paid</td>\n    </tr>\n    <tr>\n      <th>3</th>\n      <td>4589</td>\n      <td>2018-11-08 11:15:51</td>\n      <td>72</td>\n      <td>paid</td>\n      <td>SOFRQTD12A81C233C0</td>\n      <td>AR0IVTL1187B9AD520</td>\n      <td>117</td>\n      <td>Detroit-Warren-Dearborn, MI</td>\n      <td>Mozilla/5.0 (Macintosh; Intel Mac OS X 10.9; r...</td>\n      <td>72</td>\n      <td>...</td>\n      <td>8</td>\n      <td>45</td>\n      <td>11</td>\n      <td>2018</td>\n      <td>4</td>\n      <td>Detroit-Warren-Dearborn, MI</td>\n      <td>United States</td>\n      <td>0</td>\n      <td>2018</td>\n      <td>paid</td>\n    </tr>\n    <tr>\n      <th>4</th>\n      <td>4585</td>\n      <td>2018-11-13 09:18:00</td>\n      <td>83</td>\n      <td>free</td>\n      <td>SOFRQTD12A81C233C0</td>\n      <td>AR0IVTL1187B9AD520</td>\n      <td>380</td>\n      <td>Lubbock, TX</td>\n      <td>\"Mozilla/5.0 (Macintosh; Intel Mac OS X 10_9_4...</td>\n      <td>83</td>\n      <td>...</td>\n      <td>13</td>\n      <td>46</td>\n      <td>11</td>\n      <td>2018</td>\n      <td>2</td>\n      <td>Lubbock, TX</td>\n      <td>United States</td>\n      <td>0</td>\n      <td>2018</td>\n      <td>free</td>\n    </tr>\n    <tr>\n      <th>5</th>\n      <td>4587</td>\n      <td>2018-11-14 09:15:26</td>\n      <td>49</td>\n      <td>paid</td>\n      <td>SOFRQTD12A81C233C0</td>\n      <td>AR0IVTL1187B9AD520</td>\n      <td>568</td>\n      <td>San Francisco-Oakland-Hayward, CA</td>\n      <td>Mozilla/5.0 (Windows NT 5.1; rv:31.0) Gecko/20...</td>\n      <td>49</td>\n      <td>...</td>\n      <td>14</td>\n      <td>46</td>\n      <td>11</td>\n      <td>2018</td>\n      <td>3</td>\n      <td>San Francisco-Oakland-Hayward, CA</td>\n      <td>United States</td>\n      <td>0</td>\n      <td>2018</td>\n      <td>paid</td>\n    </tr>\n    <tr>\n      <th>6</th>\n      <td>4577</td>\n      <td>2018-11-15 00:30:26</td>\n      <td>26</td>\n      <td>free</td>\n      <td>SOFRQTD12A81C233C0</td>\n      <td>AR0IVTL1187B9AD520</td>\n      <td>583</td>\n      <td>San Jose-Sunnyvale-Santa Clara, CA</td>\n      <td>\"Mozilla/5.0 (X11; Linux x86_64) AppleWebKit/5...</td>\n      <td>26</td>\n      <td>...</td>\n      <td>15</td>\n      <td>46</td>\n      <td>11</td>\n      <td>2018</td>\n      <td>4</td>\n      <td>San Jose-Sunnyvale-Santa Clara, CA</td>\n      <td>United States</td>\n      <td>0</td>\n      <td>2018</td>\n      <td>free</td>\n    </tr>\n    <tr>\n      <th>7</th>\n      <td>4575</td>\n      <td>2018-11-15 13:23:35</td>\n      <td>30</td>\n      <td>paid</td>\n      <td>SOFRQTD12A81C233C0</td>\n      <td>AR0IVTL1187B9AD520</td>\n      <td>324</td>\n      <td>San Jose-Sunnyvale-Santa Clara, CA</td>\n      <td>Mozilla/5.0 (Windows NT 6.1; WOW64; rv:31.0) G...</td>\n      <td>30</td>\n      <td>...</td>\n      <td>15</td>\n      <td>46</td>\n      <td>11</td>\n      <td>2018</td>\n      <td>4</td>\n      <td>San Jose-Sunnyvale-Santa Clara, CA</td>\n      <td>United States</td>\n      <td>0</td>\n      <td>2018</td>\n      <td>paid</td>\n    </tr>\n    <tr>\n      <th>8</th>\n      <td>4583</td>\n      <td>2018-11-16 08:09:22</td>\n      <td>26</td>\n      <td>free</td>\n      <td>SOFRQTD12A81C233C0</td>\n      <td>AR0IVTL1187B9AD520</td>\n      <td>622</td>\n      <td>San Jose-Sunnyvale-Santa Clara, CA</td>\n      <td>\"Mozilla/5.0 (X11; Linux x86_64) AppleWebKit/5...</td>\n      <td>26</td>\n      <td>...</td>\n      <td>16</td>\n      <td>46</td>\n      <td>11</td>\n      <td>2018</td>\n      <td>5</td>\n      <td>San Jose-Sunnyvale-Santa Clara, CA</td>\n      <td>United States</td>\n      <td>0</td>\n      <td>2018</td>\n      <td>free</td>\n    </tr>\n    <tr>\n      <th>9</th>\n      <td>4581</td>\n      <td>2018-11-16 10:19:04</td>\n      <td>49</td>\n      <td>paid</td>\n      <td>SOFRQTD12A81C233C0</td>\n      <td>AR0IVTL1187B9AD520</td>\n      <td>636</td>\n      <td>San Francisco-Oakland-Hayward, CA</td>\n      <td>Mozilla/5.0 (Windows NT 5.1; rv:31.0) Gecko/20...</td>\n      <td>49</td>\n      <td>...</td>\n      <td>16</td>\n      <td>46</td>\n      <td>11</td>\n      <td>2018</td>\n      <td>5</td>\n      <td>San Francisco-Oakland-Hayward, CA</td>\n      <td>United States</td>\n      <td>0</td>\n      <td>2018</td>\n      <td>paid</td>\n    </tr>\n    <tr>\n      <th>10</th>\n      <td>4579</td>\n      <td>2018-11-16 10:36:17</td>\n      <td>49</td>\n      <td>paid</td>\n      <td>SOFRQTD12A81C233C0</td>\n      <td>AR0IVTL1187B9AD520</td>\n      <td>636</td>\n      <td>San Francisco-Oakland-Hayward, CA</td>\n      <td>Mozilla/5.0 (Windows NT 5.1; rv:31.0) Gecko/20...</td>\n      <td>49</td>\n      <td>...</td>\n      <td>16</td>\n      <td>46</td>\n      <td>11</td>\n      <td>2018</td>\n      <td>5</td>\n      <td>San Francisco-Oakland-Hayward, CA</td>\n      <td>United States</td>\n      <td>0</td>\n      <td>2018</td>\n      <td>paid</td>\n    </tr>\n    <tr>\n      <th>11</th>\n      <td>4573</td>\n      <td>2018-11-18 16:39:34</td>\n      <td>29</td>\n      <td>paid</td>\n      <td>SOFRQTD12A81C233C0</td>\n      <td>AR0IVTL1187B9AD520</td>\n      <td>589</td>\n      <td>Atlanta-Sandy Springs-Roswell, GA</td>\n      <td>\"Mozilla/5.0 (Macintosh; Intel Mac OS X 10_9_4...</td>\n      <td>29</td>\n      <td>...</td>\n      <td>18</td>\n      <td>46</td>\n      <td>11</td>\n      <td>2018</td>\n      <td>0</td>\n      <td>Atlanta-Sandy Springs-Roswell, GA</td>\n      <td>United States</td>\n      <td>0</td>\n      <td>2018</td>\n      <td>paid</td>\n    </tr>\n    <tr>\n      <th>12</th>\n      <td>4569</td>\n      <td>2018-11-21 02:18:40</td>\n      <td>80</td>\n      <td>paid</td>\n      <td>SOFRQTD12A81C233C0</td>\n      <td>AR0IVTL1187B9AD520</td>\n      <td>774</td>\n      <td>Portland-South Portland, ME</td>\n      <td>\"Mozilla/5.0 (Macintosh; Intel Mac OS X 10_9_4...</td>\n      <td>80</td>\n      <td>...</td>\n      <td>21</td>\n      <td>47</td>\n      <td>11</td>\n      <td>2018</td>\n      <td>3</td>\n      <td>Portland-South Portland, ME</td>\n      <td>United States</td>\n      <td>0</td>\n      <td>2018</td>\n      <td>paid</td>\n    </tr>\n    <tr>\n      <th>13</th>\n      <td>4567</td>\n      <td>2018-11-21 17:44:16</td>\n      <td>97</td>\n      <td>paid</td>\n      <td>SOFRQTD12A81C233C0</td>\n      <td>AR0IVTL1187B9AD520</td>\n      <td>817</td>\n      <td>Lansing-East Lansing, MI</td>\n      <td>\"Mozilla/5.0 (X11; Linux x86_64) AppleWebKit/5...</td>\n      <td>97</td>\n      <td>...</td>\n      <td>21</td>\n      <td>47</td>\n      <td>11</td>\n      <td>2018</td>\n      <td>3</td>\n      <td>Lansing-East Lansing, MI</td>\n      <td>United States</td>\n      <td>0</td>\n      <td>2018</td>\n      <td>paid</td>\n    </tr>\n    <tr>\n      <th>14</th>\n      <td>4565</td>\n      <td>2018-11-23 11:02:35</td>\n      <td>80</td>\n      <td>paid</td>\n      <td>SOFRQTD12A81C233C0</td>\n      <td>AR0IVTL1187B9AD520</td>\n      <td>848</td>\n      <td>Portland-South Portland, ME</td>\n      <td>\"Mozilla/5.0 (Macintosh; Intel Mac OS X 10_9_4...</td>\n      <td>80</td>\n      <td>...</td>\n      <td>23</td>\n      <td>47</td>\n      <td>11</td>\n      <td>2018</td>\n      <td>5</td>\n      <td>Portland-South Portland, ME</td>\n      <td>United States</td>\n      <td>0</td>\n      <td>2018</td>\n      <td>paid</td>\n    </tr>\n    <tr>\n      <th>15</th>\n      <td>4563</td>\n      <td>2018-11-23 20:18:51</td>\n      <td>85</td>\n      <td>paid</td>\n      <td>SOFRQTD12A81C233C0</td>\n      <td>AR0IVTL1187B9AD520</td>\n      <td>891</td>\n      <td>Red Bluff, CA</td>\n      <td>\"Mozilla/5.0 (Macintosh; Intel Mac OS X 10_10_...</td>\n      <td>85</td>\n      <td>...</td>\n      <td>23</td>\n      <td>47</td>\n      <td>11</td>\n      <td>2018</td>\n      <td>5</td>\n      <td>Red Bluff, CA</td>\n      <td>United States</td>\n      <td>0</td>\n      <td>2018</td>\n      <td>paid</td>\n    </tr>\n    <tr>\n      <th>16</th>\n      <td>4571</td>\n      <td>2018-11-24 00:51:45</td>\n      <td>26</td>\n      <td>free</td>\n      <td>SOFRQTD12A81C233C0</td>\n      <td>AR0IVTL1187B9AD520</td>\n      <td>873</td>\n      <td>San Jose-Sunnyvale-Santa Clara, CA</td>\n      <td>\"Mozilla/5.0 (X11; Linux x86_64) AppleWebKit/5...</td>\n      <td>26</td>\n      <td>...</td>\n      <td>24</td>\n      <td>47</td>\n      <td>11</td>\n      <td>2018</td>\n      <td>6</td>\n      <td>San Jose-Sunnyvale-Santa Clara, CA</td>\n      <td>United States</td>\n      <td>0</td>\n      <td>2018</td>\n      <td>free</td>\n    </tr>\n    <tr>\n      <th>17</th>\n      <td>4561</td>\n      <td>2018-11-28 16:22:55</td>\n      <td>80</td>\n      <td>paid</td>\n      <td>SOFRQTD12A81C233C0</td>\n      <td>AR0IVTL1187B9AD520</td>\n      <td>1004</td>\n      <td>Portland-South Portland, ME</td>\n      <td>\"Mozilla/5.0 (Macintosh; Intel Mac OS X 10_9_4...</td>\n      <td>80</td>\n      <td>...</td>\n      <td>28</td>\n      <td>48</td>\n      <td>11</td>\n      <td>2018</td>\n      <td>3</td>\n      <td>Portland-South Portland, ME</td>\n      <td>United States</td>\n      <td>0</td>\n      <td>2018</td>\n      <td>paid</td>\n    </tr>\n    <tr>\n      <th>18</th>\n      <td>4559</td>\n      <td>2018-11-28 21:41:05</td>\n      <td>73</td>\n      <td>paid</td>\n      <td>SOFRQTD12A81C233C0</td>\n      <td>AR0IVTL1187B9AD520</td>\n      <td>954</td>\n      <td>Tampa-St. Petersburg-Clearwater, FL</td>\n      <td>\"Mozilla/5.0 (Macintosh; Intel Mac OS X 10_9_4...</td>\n      <td>73</td>\n      <td>...</td>\n      <td>28</td>\n      <td>48</td>\n      <td>11</td>\n      <td>2018</td>\n      <td>3</td>\n      <td>Tampa-St. Petersburg-Clearwater, FL</td>\n      <td>United States</td>\n      <td>0</td>\n      <td>2018</td>\n      <td>paid</td>\n    </tr>\n    <tr>\n      <th>19</th>\n      <td>4555</td>\n      <td>2018-11-29 19:26:31</td>\n      <td>16</td>\n      <td>paid</td>\n      <td>SOFRQTD12A81C233C0</td>\n      <td>AR0IVTL1187B9AD520</td>\n      <td>983</td>\n      <td>Birmingham-Hoover, AL</td>\n      <td>\"Mozilla/5.0 (Macintosh; Intel Mac OS X 10_9_4...</td>\n      <td>16</td>\n      <td>...</td>\n      <td>29</td>\n      <td>48</td>\n      <td>11</td>\n      <td>2018</td>\n      <td>4</td>\n      <td>Birmingham-Hoover, AL</td>\n      <td>United States</td>\n      <td>0</td>\n      <td>2018</td>\n      <td>paid</td>\n    </tr>\n    <tr>\n      <th>20</th>\n      <td>4557</td>\n      <td>2018-11-30 10:59:23</td>\n      <td>36</td>\n      <td>paid</td>\n      <td>SOFRQTD12A81C233C0</td>\n      <td>AR0IVTL1187B9AD520</td>\n      <td>998</td>\n      <td>Janesville-Beloit, WI</td>\n      <td>\"Mozilla/5.0 (Windows NT 5.1) AppleWebKit/537....</td>\n      <td>36</td>\n      <td>...</td>\n      <td>30</td>\n      <td>48</td>\n      <td>11</td>\n      <td>2018</td>\n      <td>5</td>\n      <td>Janesville-Beloit, WI</td>\n      <td>United States</td>\n      <td>0</td>\n      <td>2018</td>\n      <td>paid</td>\n    </tr>\n  </tbody>\n</table>\n<p>21 rows × 36 columns</p>\n</div>"
     },
     "execution_count": 54,
     "metadata": {},
     "output_type": "execute_result"
    }
   ],
   "source": [
    "df_dwh_query_result = pd.read_sql(f\"\"\"\n",
    "SELECT  sp.*, u.*, ar.*, s.*, t.*,\n",
    "        sp.location as songsplay_location, ar.location as artist_location,\n",
    "        s.year as songs_year, t.year as time_year,\n",
    "        sp.level as songsplay_level\n",
    "FROM songplays as sp\n",
    "INNER JOIN users as u ON sp.user_id = u.user_id\n",
    "INNER JOIN artists as ar ON sp.artist_id = ar.artist_id\n",
    "INNER JOIN songs as s ON sp.song_id = s.song_id\n",
    "INNER JOIN time as t ON sp.start_time = t.start_time\n",
    "WHERE ar.name = '{artist}' and s.title = '{song}' and s.duration = {length}\n",
    "ORDER BY sp.start_time, sp.user_id;\n",
    "\"\"\", con=conn)\n",
    "\n",
    "df_dwh_query_result.head(100)"
   ],
   "metadata": {
    "collapsed": false,
    "pycharm": {
     "name": "#%%\n"
    }
   }
  },
  {
   "cell_type": "markdown",
   "source": [
    "We have again 21 rows in the analytical query result.\n",
    "\n",
    "Now let's check & test each query row values. Since we have already sorted the results by time & user, rows on `staging_events` query should match the rows on `songsplay` query."
   ],
   "metadata": {
    "collapsed": false,
    "pycharm": {
     "name": "#%% md\n"
    }
   }
  },
  {
   "cell_type": "code",
   "execution_count": 55,
   "outputs": [
    {
     "name": "stdout",
     "output_type": "stream",
     "text": [
      "DWH query row 1 values successfully matched!\n",
      "DWH query row 2 values successfully matched!\n",
      "DWH query row 3 values successfully matched!\n",
      "DWH query row 4 values successfully matched!\n",
      "DWH query row 5 values successfully matched!\n",
      "DWH query row 6 values successfully matched!\n",
      "DWH query row 7 values successfully matched!\n",
      "DWH query row 8 values successfully matched!\n",
      "DWH query row 9 values successfully matched!\n",
      "DWH query row 10 values successfully matched!\n",
      "DWH query row 11 values successfully matched!\n",
      "DWH query row 12 values successfully matched!\n",
      "DWH query row 13 values successfully matched!\n",
      "DWH query row 14 values successfully matched!\n",
      "DWH query row 15 values successfully matched!\n",
      "DWH query row 16 values successfully matched!\n",
      "DWH query row 17 values successfully matched!\n",
      "DWH query row 18 values successfully matched!\n",
      "DWH query row 19 values successfully matched!\n",
      "DWH query row 20 values successfully matched!\n",
      "DWH query row 21 values successfully matched!\n"
     ]
    }
   ],
   "source": [
    "# Needed to clear duplicated columns. Same named columns are added with a different names\n",
    "df_dwh_query_result = df_dwh_query_result.loc[:, ~df_dwh_query_result.columns.duplicated()].copy()\n",
    "\n",
    "# We have a single staging songs row\n",
    "staging_songs_row = df_staging_songs.iloc[0]\n",
    "\n",
    "tc = unittest.TestCase()\n",
    "for index, query_row in df_dwh_query_result.iterrows():\n",
    "    staging_events_row = df_staging_events.iloc[index]\n",
    "    # Event Data Match Tests: songplays, users table's rows\n",
    "    tc.assertEqual(staging_events_row['user_id'], query_row['user_id'])\n",
    "    tc.assertEqual(staging_events_row['level'], query_row['songsplay_level'])  # songsplay_level is added to query\n",
    "    tc.assertEqual(staging_events_row['gender'], query_row['gender'])\n",
    "    tc.assertEqual(staging_events_row['first_name'], query_row['first_name'])\n",
    "    tc.assertEqual(staging_events_row['last_name'], query_row['last_name'])\n",
    "    tc.assertEqual(staging_events_row['session_id'], query_row['session_id'])\n",
    "    tc.assertEqual(staging_events_row['location'], query_row['songsplay_location'])  # songsplay_location is added to query\n",
    "    tc.assertEqual(staging_events_row['user_agent'], query_row['user_agent'])\n",
    "\n",
    "    # Event Data Match Tests: time table's rows\n",
    "    ts_second = math.floor(staging_events_row['ts'] / 1000)\n",
    "    ts_timestamp = pd.Timestamp(ts_second, unit='s')\n",
    "\n",
    "    tc.assertEqual(ts_timestamp.timestamp(), query_row['start_time'].timestamp())\n",
    "    tc.assertEqual(ts_timestamp.hour, query_row['hour'])\n",
    "    tc.assertEqual(ts_timestamp.day, query_row['day'])\n",
    "    tc.assertEqual(ts_timestamp.hour, query_row['hour'])\n",
    "    tc.assertEqual(ts_timestamp.week, query_row['week'])\n",
    "    tc.assertEqual(ts_timestamp.month, query_row['month'])\n",
    "    tc.assertEqual(ts_timestamp.year, query_row['time_year'])  # time_year is added to query\n",
    "\n",
    "    # Song Data Match Tests: songplays, artists & songs table's rows\n",
    "    tc.assertEqual(staging_songs_row['song_id'], query_row['song_id'])\n",
    "    tc.assertEqual(staging_songs_row['title'], query_row['title'])\n",
    "    tc.assertEqual(staging_songs_row['artist_name'], query_row['name'])\n",
    "    tc.assertEqual(staging_songs_row['artist_latitude'], query_row['latitude'])\n",
    "    tc.assertEqual(staging_songs_row['year'], query_row['songs_year'])   # songs_year is added to query\n",
    "    tc.assertEqual(staging_songs_row['duration'], query_row['duration'])\n",
    "    tc.assertEqual(staging_songs_row['artist_id'], query_row['artist_id'])\n",
    "    tc.assertEqual(staging_songs_row['artist_longitude'], query_row['longitude'])\n",
    "    tc.assertEqual(staging_songs_row['artist_location'], query_row['artist_location'])  # artist_location is added to query\n",
    "\n",
    "    print(f\"DWH query row {index+1} values successfully matched!\")"
   ],
   "metadata": {
    "collapsed": false,
    "pycharm": {
     "name": "#%%\n"
    }
   }
  },
  {
   "cell_type": "markdown",
   "source": [
    "Our DWH tables are successfully created & inserted!"
   ],
   "metadata": {
    "collapsed": false,
    "pycharm": {
     "name": "#%% md\n"
    }
   }
  },
  {
   "cell_type": "markdown",
   "source": [],
   "metadata": {
    "collapsed": false,
    "pycharm": {
     "name": "#%% md\n"
    }
   }
  }
 ],
 "metadata": {
  "kernelspec": {
   "display_name": "Python 3",
   "language": "python",
   "name": "python3"
  },
  "language_info": {
   "codemirror_mode": {
    "name": "ipython",
    "version": 2
   },
   "file_extension": ".py",
   "mimetype": "text/x-python",
   "name": "python",
   "nbconvert_exporter": "python",
   "pygments_lexer": "ipython2",
   "version": "2.7.6"
  }
 },
 "nbformat": 4,
 "nbformat_minor": 0
}